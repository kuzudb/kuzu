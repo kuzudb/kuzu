{
 "cells": [
  {
   "cell_type": "code",
   "execution_count": 1,
   "metadata": {},
   "outputs": [
    {
     "name": "stdout",
     "output_type": "stream",
     "text": [
      "rm -rf tools/python_api/build\n",
      "cd external && \\\n",
      "\tmkdir -p build && \\\n",
      "\tcd build && \\\n",
      "\tcmake    -DCMAKE_BUILD_TYPE=Release ../ && \\\n",
      "\tcmake --build . --config Release -- -j 20\n",
      "-- Configuring done\n",
      "-- Generating done\n",
      "-- Build files have been written to: /Users/lc/Developer/kuzu/external/build\n",
      "[100%] Built target apache_arrow\n",
      "mkdir -p build/release && \\\n",
      "\tcd build/release && \\\n",
      "\tcmake    -DCMAKE_BUILD_TYPE=Release ../.. && \\\n",
      "\tcmake --build . --config Release -- -j 20\n",
      "-- pybind11 v2.11.0 dev1\n",
      "-- Configuring done\n",
      "-- Generating done\n",
      "-- Build files have been written to: /Users/lc/Developer/kuzu/build/release\n",
      "[  0%] Built target kuzu_transaction\n",
      "[  0%] Built target utf8proc\n",
      "[  0%] Built target kuzu_common_csv_reader\n",
      "[  1%] Built target kuzu_binder_expression\n",
      "[  2%] Built target kuzu_common_arrow\n",
      "[  2%] Built target kuzu_catalog\n",
      "[  3%] Built target kuzu_common_vector\n",
      "[  3%] Built target kuzu_common_data_chunk\n",
      "[  3%] Built target kuzu_binder\n",
      "[  4%] Built target kuzu_common_task_system\n",
      "[  5%] Built target kuzu_binder_query\n",
      "[  6%] Built target kuzu_expression_evaluator\n",
      "[  7%] Built target kuzu_parser_expression\n",
      "[  7%] Built target kuzu_parser_query\n",
      "[  7%] Built target kuzu_optimizer\n",
      "[  8%] Built target kuzu_common_types\n",
      "[  9%] Built target kuzu_parser\n",
      "[ 10%] Built target kuzu_binder_bind\n",
      "[ 12%] Built target kuzu_main\n",
      "[ 12%] Built target kuzu_parser_antlr_parser\n",
      "[ 13%] Built target kuzu_processor\n",
      "[ 15%] Built target kuzu_common\n",
      "[ 17%] Built target kuzu_binder_bind_expression\n",
      "[ 18%] Built target kuzu_processor_operator_table_scan\n",
      "[ 19%] Built target kuzu_processor_operator_copy\n",
      "[ 19%] Built target kuzu_processor_operator_intersect\n",
      "[ 20%] Built target kuzu_processor_operator_hash_join\n",
      "[ 22%] Built target kuzu_processor_operator_ver_length_extend\n",
      "[ 23%] Built target kuzu_function\n",
      "[ 23%] Built target kuzu_processor_operator_update\n",
      "[ 24%] Built target kuzu_planner\n",
      "[ 28%] Built target re2\n",
      "[ 28%] Built target kuzu_processor_result\n",
      "[ 29%] Built target kuzu_processor_operator_aggregate\n",
      "[ 30%] Built target kuzu_processor_operator_order_by\n",
      "[ 31%] Built target kuzu_processor_operator_scan\n",
      "[ 31%] Built target kuzu_storage_in_mem_storage_structure\n",
      "[ 32%] Built target kuzu_storage\n",
      "[ 34%] Built target kuzu_processor_operator_ddl\n",
      "[ 34%] Built target kuzu_storage_buffer_manager\n",
      "[ 34%] Built target kuzu_storage_index\n",
      "[ 37%] Built target kuzu_storage_in_mem_csv_copier\n",
      "[ 38%] Built target kuzu_processor_operator\n",
      "[ 38%] Built target gtest\n",
      "[ 39%] Built target kuzu_storage_wal\n",
      "[ 40%] Built target kuzu_storage_structure\n",
      "[ 42%] Built target kuzu_storage_lists\n",
      "[ 43%] Built target kuzu_storage_store\n",
      "[ 48%] Built target kuzu_planner_operator\n",
      "[ 48%] Built target gmock\n",
      "[ 48%] Built target gtest_main\n",
      "[ 49%] Built target gmock_main\n",
      "[ 53%] Built target kuzu_processor_mapper\n",
      "[ 81%] Built target antlr4_runtime\n",
      "[ 81%] Built target antlr4_cypher\n",
      "[ 83%] Built target kuzu_shared\n",
      "[ 83%] Built target kuzu\n",
      "[ 83%] Built target test_helper\n",
      "[ 83%] Built target graph_test\n",
      "[ 83%] Built target kuzu_shell\n",
      "[ 83%] \u001b[32m\u001b[1mLinking CXX shared library /Users/lc/Developer/kuzu/tools/python_api/build/kuzu/_kuzu.cpython-310-darwin.so\u001b[0m\n",
      "ld: warning: -undefined dynamic_lookup may not work with chained fixups\n",
      "[ 83%] Built target catalog_test\n",
      "[ 84%] Built target syntax_error_test\n",
      "[ 84%] Built target copy_dos_style_newline_test\n",
      "[ 84%] Built target binder_error_test\n",
      "[ 84%] Built target copy_timestamp_test\n",
      "[ 84%] Built target copy_interval_test\n",
      "[ 85%] Built target copy_test\n",
      "[ 86%] Built target e2e_delete_create_transaction_test\n",
      "[ 86%] Built target e2e_ddl_test\n",
      "[ 87%] Built target copy_fault_test\n",
      "[ 87%] Built target copy_arrow_test\n",
      "[ 87%] Built target binder_test\n",
      "[ 87%] Built target demo_db_test\n",
      "[ 87%] Built target copy_lists_test\n",
      "[ 87%] Built target order_by_test\n",
      "[ 88%] Built target e2e_copy_csv_transaction_test\n",
      "[ 89%] Built target copy_dates_test\n",
      "[ 90%] Built target types_test\n",
      "[ 91%] Built target e2e_exception_test\n",
      "[ 92%] Built target main_test\n",
      "[ 92%] Built target e2e_order_by_test\n",
      "[ 92%] Built target e2e_read_list_test\n",
      "[ 93%] Built target e2e_read_test\n",
      "[ 93%] Built target e2e_set_transaction_test\n",
      "[ 95%] Built target e2e_update_rel_test\n",
      "[ 95%] Built target wal_record_test\n",
      "[ 95%] Built target e2e_update_node_test\n",
      "[ 95%] Built target e2e_create_rel_test\n",
      "[ 95%] Built target e2e_delete_rel_test\n",
      "[ 96%] Built target buffer_manager_test\n",
      "[ 96%] Built target transaction_manager_test\n",
      "[ 97%] Built target wal_replayer_test\n",
      "[ 97%] Built target wal_test\n",
      "[ 99%] Built target node_insertion_deletion_test\n",
      "[ 99%] Built target transaction_test\n",
      "[100%] Built target _kuzu\n"
     ]
    }
   ],
   "source": [
    "!cd /Users/lc/Developer/kuzu &&  make clean-python-api && make release NUM_THREADS=20 "
   ]
  },
  {
   "cell_type": "code",
   "execution_count": 2,
   "metadata": {},
   "outputs": [],
   "source": [
    "import sys\n",
    "sys.path.append('/Users/lc/Developer/kuzu/tools/python_api/build')\n",
    "import kuzu"
   ]
  },
  {
   "cell_type": "code",
   "execution_count": 3,
   "metadata": {},
   "outputs": [],
   "source": [
    "import torch_geometric.transforms as T\n",
    "from torch_geometric.datasets import OGB_MAG\n",
    "\n",
    "\n",
    "dataset = OGB_MAG(root='/Users/lc/Developer/ogb_pytorch', preprocess='metapath2vec', transform=T.ToUndirected())\n",
    "data = dataset[0]"
   ]
  },
  {
   "cell_type": "code",
   "execution_count": 4,
   "metadata": {},
   "outputs": [],
   "source": [
    "import torch"
   ]
  },
  {
   "cell_type": "code",
   "execution_count": 5,
   "metadata": {},
   "outputs": [],
   "source": [
    "DB_PATH = '/Users/lc/Developer/kuzu_ogb_mag'\n",
    "db = kuzu.Database(DB_PATH)"
   ]
  },
  {
   "cell_type": "code",
   "execution_count": 6,
   "metadata": {},
   "outputs": [],
   "source": [
    "conn = kuzu.Connection(db)"
   ]
  },
  {
   "cell_type": "code",
   "execution_count": 7,
   "metadata": {},
   "outputs": [],
   "source": [
    "fs, gs = db.get_torch_geometric_remote_backend()"
   ]
  },
  {
   "cell_type": "code",
   "execution_count": 8,
   "metadata": {},
   "outputs": [
    {
     "data": {
      "text/plain": [
       "HeteroData(\n",
       "  \u001b[1mpaper\u001b[0m={\n",
       "    x=[736389, 128],\n",
       "    year=[736389],\n",
       "    y=[736389],\n",
       "    train_mask=[736389],\n",
       "    val_mask=[736389],\n",
       "    test_mask=[736389]\n",
       "  },\n",
       "  \u001b[1mauthor\u001b[0m={ x=[1134649, 128] },\n",
       "  \u001b[1minstitution\u001b[0m={ x=[8740, 128] },\n",
       "  \u001b[1mfield_of_study\u001b[0m={ x=[59965, 128] },\n",
       "  \u001b[1m(author, affiliated_with, institution)\u001b[0m={ edge_index=[2, 1043998] },\n",
       "  \u001b[1m(author, writes, paper)\u001b[0m={ edge_index=[2, 7145660] },\n",
       "  \u001b[1m(paper, cites, paper)\u001b[0m={ edge_index=[2, 10792672] },\n",
       "  \u001b[1m(paper, has_topic, field_of_study)\u001b[0m={ edge_index=[2, 7505078] },\n",
       "  \u001b[1m(institution, rev_affiliated_with, author)\u001b[0m={ edge_index=[2, 1043998] },\n",
       "  \u001b[1m(paper, rev_writes, author)\u001b[0m={ edge_index=[2, 7145660] },\n",
       "  \u001b[1m(field_of_study, rev_has_topic, paper)\u001b[0m={ edge_index=[2, 7505078] }\n",
       ")"
      ]
     },
     "execution_count": 8,
     "metadata": {},
     "output_type": "execute_result"
    }
   ],
   "source": [
    "data"
   ]
  },
  {
   "cell_type": "code",
   "execution_count": 7,
   "metadata": {},
   "outputs": [],
   "source": [
    "from torch_geometric.loader import NeighborLoader\n"
   ]
  },
  {
   "cell_type": "code",
   "execution_count": 10,
   "metadata": {},
   "outputs": [],
   "source": [
    "loader_kuzu = NeighborLoader(\n",
    "    data=(fs, gs),\n",
    "    num_neighbors={key.edge_type : [30] * 2 for key in gs.get_all_edge_attrs()},\n",
    "    # Use a batch size of 128 for sampling training nodes of type paper\n",
    "    batch_size=128,\n",
    "    input_nodes=('paper', torch.arange(0, data['paper'].num_nodes)),\n",
    "    input_time=None,\n",
    "    num_workers=10,\n",
    ")"
   ]
  },
  {
   "cell_type": "code",
   "execution_count": 11,
   "metadata": {},
   "outputs": [
    {
     "name": "stdout",
     "output_type": "stream",
     "text": [
      "Total time 3.2379000186920166\n",
      "Total time 2.9140219688415527\n",
      "Total time 2.865478992462158\n",
      "Total time 2.644171953201294\n",
      "Total time 2.554901123046875\n",
      "Total time 2.5458102226257324\n",
      "Total time 2.395853042602539\n",
      "Total time 2.2535243034362793\n",
      "Total time 2.485074043273926\n",
      "=====\n",
      "2.6551928520202637\n"
     ]
    }
   ],
   "source": [
    "import time\n",
    "times = []\n",
    "for i in range(10):\n",
    "    start = time.time()\n",
    "    next(iter(loader_kuzu))\n",
    "    end = time.time()\n",
    "    if i > 0:\n",
    "        times.append(end - start)\n",
    "        print(\"Total time\", end - start)\n",
    "print(\"=====\")\n",
    "print(sum(times) / len(times))"
   ]
  },
  {
   "cell_type": "code",
   "execution_count": 12,
   "metadata": {},
   "outputs": [
    {
     "data": {
      "text/plain": [
       "HeteroData(\n",
       "  \u001b[1mpaper\u001b[0m={\n",
       "    num_nodes=36213,\n",
       "    id=[36213],\n",
       "    x=[36213, 128],\n",
       "    year=[36213],\n",
       "    y=[36213],\n",
       "    input_id=[128],\n",
       "    batch_size=128\n",
       "  },\n",
       "  \u001b[1minstitution\u001b[0m={\n",
       "    num_nodes=343,\n",
       "    id=[343],\n",
       "    x=[343, 128]\n",
       "  },\n",
       "  \u001b[1mauthor\u001b[0m={\n",
       "    num_nodes=5737,\n",
       "    id=[5737],\n",
       "    x=[5737, 128]\n",
       "  },\n",
       "  \u001b[1mfield_of_study\u001b[0m={\n",
       "    num_nodes=2797,\n",
       "    id=[2797],\n",
       "    x=[2797, 128]\n",
       "  },\n",
       "  \u001b[1m(paper, has_topic, field_of_study)\u001b[0m={ edge_index=[2, 20795] },\n",
       "  \u001b[1m(author, affiliated_with, institution)\u001b[0m={ edge_index=[2, 0] },\n",
       "  \u001b[1m(institution, rev_affiliated_with, author)\u001b[0m={ edge_index=[2, 960] },\n",
       "  \u001b[1m(field_of_study, rev_has_topic, paper)\u001b[0m={ edge_index=[2, 12436] },\n",
       "  \u001b[1m(paper, cites, paper)\u001b[0m={ edge_index=[2, 21998] },\n",
       "  \u001b[1m(author, writes, paper)\u001b[0m={ edge_index=[2, 7985] },\n",
       "  \u001b[1m(paper, rev_writes, author)\u001b[0m={ edge_index=[2, 9236] }\n",
       ")"
      ]
     },
     "execution_count": 12,
     "metadata": {},
     "output_type": "execute_result"
    }
   ],
   "source": [
    "next(iter(loader_kuzu))"
   ]
  },
  {
   "cell_type": "code",
   "execution_count": 12,
   "metadata": {},
   "outputs": [
    {
     "data": {
      "text/plain": [
       "HeteroData(\n",
       "  \u001b[1mpaper\u001b[0m={\n",
       "    num_nodes=35999,\n",
       "    id=[35999],\n",
       "    x=[35999, 128],\n",
       "    year=[35999],\n",
       "    y=[35999],\n",
       "    input_id=[128],\n",
       "    batch_size=128\n",
       "  },\n",
       "  \u001b[1minstitution\u001b[0m={\n",
       "    num_nodes=333,\n",
       "    id=[333],\n",
       "    x=[333, 128]\n",
       "  },\n",
       "  \u001b[1mauthor\u001b[0m={\n",
       "    num_nodes=5709,\n",
       "    id=[5709],\n",
       "    x=[5709, 128]\n",
       "  },\n",
       "  \u001b[1mfield_of_study\u001b[0m={\n",
       "    num_nodes=2792,\n",
       "    id=[2792],\n",
       "    x=[2792, 128]\n",
       "  },\n",
       "  \u001b[1m(paper, has_topic, field_of_study)\u001b[0m={ edge_index=[2, 20795] },\n",
       "  \u001b[1m(author, affiliated_with, institution)\u001b[0m={ edge_index=[2, 0] },\n",
       "  \u001b[1m(institution, rev_affiliated_with, author)\u001b[0m={ edge_index=[2, 942] },\n",
       "  \u001b[1m(field_of_study, rev_has_topic, paper)\u001b[0m={ edge_index=[2, 12417] },\n",
       "  \u001b[1m(paper, cites, paper)\u001b[0m={ edge_index=[2, 22022] },\n",
       "  \u001b[1m(author, writes, paper)\u001b[0m={ edge_index=[2, 7942] },\n",
       "  \u001b[1m(paper, rev_writes, author)\u001b[0m={ edge_index=[2, 9075] }\n",
       ")"
      ]
     },
     "execution_count": 12,
     "metadata": {},
     "output_type": "execute_result"
    }
   ],
   "source": [
    "next(iter(loader_kuzu))"
   ]
  },
  {
   "cell_type": "code",
   "execution_count": 10,
   "metadata": {},
   "outputs": [],
   "source": [
    "loader_pyg = NeighborLoader(\n",
    "    data=data,\n",
    "    num_neighbors={key: [30] * 2 for key in data.edge_types},\n",
    "    # Use a batch size of 128 for sampling training nodes of type paper\n",
    "    batch_size=128,\n",
    "    input_nodes=('paper', torch.arange(0, data['paper'].num_nodes)),\n",
    "    input_time=None,\n",
    "    num_workers=10,\n",
    ")"
   ]
  },
  {
   "cell_type": "code",
   "execution_count": 11,
   "metadata": {},
   "outputs": [
    {
     "name": "stdout",
     "output_type": "stream",
     "text": [
      "2.314298152923584\n",
      "2.3115360736846924\n",
      "2.287034034729004\n",
      "2.268874168395996\n",
      "2.238197088241577\n",
      "2.3284809589385986\n",
      "2.2262158393859863\n",
      "2.288803815841675\n",
      "2.3746721744537354\n",
      "=====\n",
      "2.2931235896216497\n"
     ]
    }
   ],
   "source": [
    "import time\n",
    "times = []\n",
    "for i in range(10):\n",
    "    start = time.time()\n",
    "    next(iter(loader_pyg))\n",
    "    end = time.time()\n",
    "    if i > 0:\n",
    "        times.append(end - start)\n",
    "        print(end - start)\n",
    "print(\"=====\")\n",
    "print(sum(times) / len(times))"
   ]
  },
  {
   "cell_type": "code",
   "execution_count": 12,
   "metadata": {},
   "outputs": [
    {
     "data": {
      "text/plain": [
       "HeteroData(\n",
       "  \u001b[1mpaper\u001b[0m={\n",
       "    x=[36241, 128],\n",
       "    year=[36241],\n",
       "    y=[36241],\n",
       "    train_mask=[36241],\n",
       "    val_mask=[36241],\n",
       "    test_mask=[36241],\n",
       "    input_id=[128],\n",
       "    batch_size=128\n",
       "  },\n",
       "  \u001b[1mauthor\u001b[0m={ x=[5721, 128] },\n",
       "  \u001b[1minstitution\u001b[0m={ x=[339, 128] },\n",
       "  \u001b[1mfield_of_study\u001b[0m={ x=[2798, 128] },\n",
       "  \u001b[1m(author, affiliated_with, institution)\u001b[0m={ edge_index=[2, 0] },\n",
       "  \u001b[1m(author, writes, paper)\u001b[0m={ edge_index=[2, 7957] },\n",
       "  \u001b[1m(paper, cites, paper)\u001b[0m={ edge_index=[2, 22078] },\n",
       "  \u001b[1m(paper, has_topic, field_of_study)\u001b[0m={ edge_index=[2, 20795] },\n",
       "  \u001b[1m(institution, rev_affiliated_with, author)\u001b[0m={ edge_index=[2, 957] },\n",
       "  \u001b[1m(paper, rev_writes, author)\u001b[0m={ edge_index=[2, 9150] },\n",
       "  \u001b[1m(field_of_study, rev_has_topic, paper)\u001b[0m={ edge_index=[2, 12424] }\n",
       ")"
      ]
     },
     "execution_count": 12,
     "metadata": {},
     "output_type": "execute_result"
    }
   ],
   "source": [
    "next(iter(loader_pyg))"
   ]
  },
  {
   "cell_type": "code",
   "execution_count": null,
   "metadata": {},
   "outputs": [],
   "source": []
  }
 ],
 "metadata": {
  "kernelspec": {
   "display_name": "Python 3",
   "language": "python",
   "name": "python3"
  },
  "language_info": {
   "codemirror_mode": {
    "name": "ipython",
    "version": 3
   },
   "file_extension": ".py",
   "mimetype": "text/x-python",
   "name": "python",
   "nbconvert_exporter": "python",
   "pygments_lexer": "ipython3",
   "version": "3.10.9"
  },
  "orig_nbformat": 4,
  "vscode": {
   "interpreter": {
    "hash": "b0fa6594d8f4cbf19f97940f81e996739fb7646882a419484c72d19e05852a7e"
   }
  }
 },
 "nbformat": 4,
 "nbformat_minor": 2
}
