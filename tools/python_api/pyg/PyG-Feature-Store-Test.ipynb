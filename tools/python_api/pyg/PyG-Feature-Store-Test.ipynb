{
 "cells": [
  {
   "cell_type": "code",
   "execution_count": 1,
   "metadata": {},
   "outputs": [
    {
     "name": "stdout",
     "output_type": "stream",
     "text": [
      "rm -rf tools/python_api/build\n",
      "cd external && \\\n",
      "\tmkdir -p build && \\\n",
      "\tcd build && \\\n",
      "\tcmake    -DCMAKE_BUILD_TYPE=Release ../ && \\\n",
      "\tcmake --build . --config Release -- -j 20\n",
      "-- Configuring done (0.0s)\n",
      "-- Generating done (0.0s)\n",
      "-- Build files have been written to: /Users/lc/Developer/kuzu/external/build\n",
      "[100%] Built target apache_arrow\n",
      "mkdir -p build/release && \\\n",
      "\tcd build/release && \\\n",
      "\tcmake    -DCMAKE_BUILD_TYPE=Release ../.. && \\\n",
      "\tcmake --build . --config Release -- -j 20\n",
      "-- pybind11 v2.11.0 dev1\n",
      "-- Configuring done (0.1s)\n",
      "-- Generating done (0.3s)\n",
      "-- Build files have been written to: /Users/lc/Developer/kuzu/build/release\n",
      "[  0%] Built target kuzu_transaction\n",
      "[  1%] Built target utf8proc\n",
      "[  1%] Built target kuzu_common_copier_config\n",
      "[  1%] Built target kuzu_common_vector\n",
      "[  2%] Built target kuzu_common_arrow\n",
      "[  3%] Built target kuzu_common_task_system\n",
      "[  3%] Built target kuzu_common_data_chunk\n",
      "[  3%] Built target kuzu_catalog\n",
      "[  4%] Built target kuzu_binder_expression\n",
      "[  5%] Built target kuzu_binder\n",
      "[  6%] Built target kuzu_expression_evaluator\n",
      "[  6%] Built target kuzu_parser_expression\n",
      "[  8%] Built target kuzu_binder_query\n",
      "[  8%] Built target kuzu_parser\n",
      "[  8%] Built target kuzu_parser_query\n",
      "[ 10%] Built target kuzu_common_types\n",
      "[ 12%] Built target kuzu_binder_bind\n",
      "[ 12%] Built target kuzu_parser_antlr_parser\n",
      "[ 12%] Built target kuzu_planner_join_order\n",
      "[ 13%] Built target kuzu_processor\n",
      "[ 15%] Built target kuzu_optimizer\n",
      "[ 17%] Built target kuzu_main\n",
      "[ 19%] Built target kuzu_common\n",
      "[ 21%] Built target kuzu_binder_bind_expression\n",
      "[ 23%] Built target kuzu_planner\n",
      "[ 24%] Built target kuzu_processor_operator_intersect\n",
      "[ 25%] Built target kuzu_processor_operator_hash_join\n",
      "[ 26%] Built target kuzu_processor_operator_copy\n",
      "[ 27%] Built target kuzu_processor_operator_table_scan\n",
      "[ 31%] Built target kuzu_function\n",
      "[ 35%] Built target re2\n",
      "[ 36%] Built target kuzu_processor_operator_aggregate\n",
      "[ 37%] Built target kuzu_processor_operator_ver_length_extend\n",
      "[ 37%] Built target kuzu_processor_operator_update\n",
      "[ 38%] Built target kuzu_processor_result\n",
      "[ 39%] Built target kuzu_storage_buffer_manager\n",
      "[ 40%] Built target kuzu_processor_operator_ddl\n",
      "[ 41%] Built target kuzu_processor_operator_scan\n",
      "[ 42%] Built target kuzu_processor_operator_order_by\n",
      "[ 42%] Built target kuzu_storage_in_mem_storage_structure\n",
      "[ 43%] Built target kuzu_storage_index\n",
      "[ 44%] Built target kuzu_storage\n",
      "[ 45%] Built target kuzu_storage_wal\n",
      "[ 46%] Built target kuzu_storage_in_mem_csv_copier\n",
      "[ 47%] Built target kuzu_storage_structure\n",
      "[ 48%] Built target kuzu_storage_lists\n",
      "[ 51%] Built target kuzu_processor_operator\n",
      "[ 53%] Built target kuzu_storage_store\n",
      "[ 59%] Built target kuzu_planner_operator\n",
      "[ 65%] Built target kuzu_processor_mapper\n",
      "[ 97%] Built target antlr4_runtime\n",
      "[ 98%] Built target antlr4_cypher\n",
      "[ 98%] Built target kuzu\n",
      "[ 98%] Built target kuzu_shared\n",
      "[ 99%] Built target kuzu_shell\n",
      "[ 99%] \u001b[32m\u001b[1mLinking CXX shared library /Users/lc/Developer/kuzu/tools/python_api/build/kuzu/_kuzu.cpython-311-darwin.so\u001b[0m\n",
      "ld: warning: -undefined dynamic_lookup may not work with chained fixups\n",
      "[100%] Built target _kuzu\n"
     ]
    }
   ],
   "source": [
    "!cd ~/Developer/kuzu/ &&  make clean-python-api && make release NUM_THREADS=20"
   ]
  },
  {
   "cell_type": "code",
   "execution_count": 2,
   "metadata": {},
   "outputs": [],
   "source": [
    "import sys\n",
    "sys.path.append('/Users/lc/Developer/kuzu/tools/python_api/build')\n",
    "import kuzu\n",
    "import torch\n",
    "import time\n",
    "from torch_geometric.loader import NeighborLoader"
   ]
  },
  {
   "cell_type": "code",
   "execution_count": 3,
   "metadata": {},
   "outputs": [],
   "source": [
    "DB_PATH = '/Users/lc/Developer/kuzu_ogb_mag'\n",
    "db = kuzu.Database(DB_PATH, buffer_pool_size=1024**3)\n",
    "fs, gs = db.get_torch_geometric_remote_backend(1)"
   ]
  },
  {
   "cell_type": "code",
   "execution_count": 4,
   "metadata": {},
   "outputs": [
    {
     "data": {
      "text/plain": [
       "tensor([[     0,      0,      0,  ..., 736388, 736388, 736388],\n",
       "        [    88,  27449, 121051,  ..., 707740, 732008, 732389]])"
      ]
     },
     "execution_count": 4,
     "metadata": {},
     "output_type": "execute_result"
    }
   ],
   "source": [
    "gs.get_edge_index(\n",
    "        ('paper', 'cites', 'paper'), layout='coo', is_sorted=False)"
   ]
  },
  {
   "cell_type": "code",
   "execution_count": 5,
   "metadata": {},
   "outputs": [
    {
     "data": {
      "text/plain": [
       "tensor([2013])"
      ]
     },
     "execution_count": 5,
     "metadata": {},
     "output_type": "execute_result"
    }
   ],
   "source": [
    "fs['paper', 'year', 100]"
   ]
  },
  {
   "cell_type": "code",
   "execution_count": 6,
   "metadata": {},
   "outputs": [
    {
     "name": "stderr",
     "output_type": "stream",
     "text": [
      "/opt/homebrew/lib/python3.11/site-packages/torch_geometric/data/graph_store.py:360: UserWarning: TypedStorage is deprecated. It will be removed in the future and UntypedStorage will be the only storage class. This should only matter to you if you are using storages directly.  To access UntypedStorage directly, use tensor.untyped_storage() instead of tensor.storage()\n",
      "  if (src[0].storage().data_ptr() == dst[1].storage().data_ptr()\n",
      "/opt/homebrew/lib/python3.11/site-packages/torch_geometric/data/graph_store.py:365: UserWarning: TypedStorage is deprecated. It will be removed in the future and UntypedStorage will be the only storage class. This should only matter to you if you are using storages directly.  To access UntypedStorage directly, use tensor.untyped_storage() instead of tensor.storage()\n",
      "  out.set_(src.storage(), storage_offset=src.storage_offset(),\n"
     ]
    }
   ],
   "source": [
    "loader_kuzu = NeighborLoader(\n",
    "    data=(fs, gs),\n",
    "    num_neighbors={key.edge_type : [30] * 2 for key in gs.get_all_edge_attrs()},\n",
    "    # Use a batch size of 128 for sampling training nodes of type paper\n",
    "    batch_size=128,\n",
    "    input_nodes=('paper', torch.arange(0, 736389)),\n",
    "    input_time=None\n",
    ")"
   ]
  },
  {
   "cell_type": "code",
   "execution_count": 7,
   "metadata": {},
   "outputs": [],
   "source": [
    "i = 1\n",
    "for b in loader_kuzu:\n",
    "    i += 1\n",
    "    if i == 10:\n",
    "        break\n",
    "start = time.time()\n",
    "i = 1\n",
    "for b in loader_kuzu:\n",
    "    i += 1\n",
    "    if i == 10:\n",
    "        break\n",
    "end = time.time() - start"
   ]
  },
  {
   "cell_type": "code",
   "execution_count": 8,
   "metadata": {},
   "outputs": [
    {
     "data": {
      "text/plain": [
       "(10, 6.42133092880249)"
      ]
     },
     "execution_count": 8,
     "metadata": {},
     "output_type": "execute_result"
    }
   ],
   "source": [
    "i, end"
   ]
  },
  {
   "cell_type": "code",
   "execution_count": 9,
   "metadata": {},
   "outputs": [],
   "source": [
    "import torch_geometric.transforms as T\n",
    "from torch_geometric.datasets import OGB_MAG\n",
    "import torch\n",
    "from torch_geometric.loader import NeighborLoader\n",
    "import time\n",
    "\n",
    "dataset = OGB_MAG(root='/Users/lc/Developer/ogb_pytorch', preprocess='metapath2vec', transform=T.ToUndirected())\n",
    "data = dataset[0]"
   ]
  },
  {
   "cell_type": "code",
   "execution_count": 10,
   "metadata": {},
   "outputs": [],
   "source": [
    "loader_pyg = NeighborLoader(\n",
    "    data=data,\n",
    "    num_neighbors={key: [30] * 2 for key in data.edge_types},\n",
    "    # Use a batch size of 128 for sampling training nodes of type paper\n",
    "    batch_size=128,\n",
    "    input_nodes=('paper', torch.arange(0, 736389)),\n",
    "    input_time=None,\n",
    "    num_workers=20,\n",
    "    filter_per_worker=True,\n",
    "    persistent_workers=True\n",
    ")"
   ]
  },
  {
   "cell_type": "code",
   "execution_count": 11,
   "metadata": {},
   "outputs": [
    {
     "name": "stderr",
     "output_type": "stream",
     "text": [
      "/opt/homebrew/lib/python3.11/site-packages/torch_geometric/loader/utils.py:53: UserWarning: TypedStorage is deprecated. It will be removed in the future and UntypedStorage will be the only storage class. This should only matter to you if you are using storages directly.  To access UntypedStorage directly, use tensor.untyped_storage() instead of tensor.storage()\n",
      "  storage = value.storage()._new_shared(numel)\n",
      "/opt/homebrew/lib/python3.11/site-packages/torch_geometric/loader/utils.py:53: UserWarning: TypedStorage is deprecated. It will be removed in the future and UntypedStorage will be the only storage class. This should only matter to you if you are using storages directly.  To access UntypedStorage directly, use tensor.untyped_storage() instead of tensor.storage()\n",
      "  storage = value.storage()._new_shared(numel)\n",
      "/opt/homebrew/lib/python3.11/site-packages/torch_geometric/loader/utils.py:53: UserWarning: TypedStorage is deprecated. It will be removed in the future and UntypedStorage will be the only storage class. This should only matter to you if you are using storages directly.  To access UntypedStorage directly, use tensor.untyped_storage() instead of tensor.storage()\n",
      "  storage = value.storage()._new_shared(numel)\n",
      "/opt/homebrew/lib/python3.11/site-packages/torch_geometric/loader/utils.py:53: UserWarning: TypedStorage is deprecated. It will be removed in the future and UntypedStorage will be the only storage class. This should only matter to you if you are using storages directly.  To access UntypedStorage directly, use tensor.untyped_storage() instead of tensor.storage()\n",
      "  storage = value.storage()._new_shared(numel)\n",
      "/opt/homebrew/lib/python3.11/site-packages/torch_geometric/loader/utils.py:53: UserWarning: TypedStorage is deprecated. It will be removed in the future and UntypedStorage will be the only storage class. This should only matter to you if you are using storages directly.  To access UntypedStorage directly, use tensor.untyped_storage() instead of tensor.storage()\n",
      "  storage = value.storage()._new_shared(numel)\n",
      "/opt/homebrew/lib/python3.11/site-packages/torch_geometric/loader/utils.py:53: UserWarning: TypedStorage is deprecated. It will be removed in the future and UntypedStorage will be the only storage class. This should only matter to you if you are using storages directly.  To access UntypedStorage directly, use tensor.untyped_storage() instead of tensor.storage()\n",
      "  storage = value.storage()._new_shared(numel)\n",
      "/opt/homebrew/lib/python3.11/site-packages/torch_geometric/loader/utils.py:53: UserWarning: TypedStorage is deprecated. It will be removed in the future and UntypedStorage will be the only storage class. This should only matter to you if you are using storages directly.  To access UntypedStorage directly, use tensor.untyped_storage() instead of tensor.storage()\n",
      "  storage = value.storage()._new_shared(numel)\n",
      "/opt/homebrew/lib/python3.11/site-packages/torch_geometric/loader/utils.py:53: UserWarning: TypedStorage is deprecated. It will be removed in the future and UntypedStorage will be the only storage class. This should only matter to you if you are using storages directly.  To access UntypedStorage directly, use tensor.untyped_storage() instead of tensor.storage()\n",
      "  storage = value.storage()._new_shared(numel)\n",
      "/opt/homebrew/lib/python3.11/site-packages/torch_geometric/loader/utils.py:53: UserWarning: TypedStorage is deprecated. It will be removed in the future and UntypedStorage will be the only storage class. This should only matter to you if you are using storages directly.  To access UntypedStorage directly, use tensor.untyped_storage() instead of tensor.storage()\n",
      "  storage = value.storage()._new_shared(numel)\n",
      "/opt/homebrew/lib/python3.11/site-packages/torch_geometric/loader/utils.py:53: UserWarning: TypedStorage is deprecated. It will be removed in the future and UntypedStorage will be the only storage class. This should only matter to you if you are using storages directly.  To access UntypedStorage directly, use tensor.untyped_storage() instead of tensor.storage()\n",
      "  storage = value.storage()._new_shared(numel)\n",
      "/opt/homebrew/lib/python3.11/site-packages/torch_geometric/loader/utils.py:53: UserWarning: TypedStorage is deprecated. It will be removed in the future and UntypedStorage will be the only storage class. This should only matter to you if you are using storages directly.  To access UntypedStorage directly, use tensor.untyped_storage() instead of tensor.storage()\n",
      "  storage = value.storage()._new_shared(numel)\n",
      "/opt/homebrew/lib/python3.11/site-packages/torch_geometric/loader/utils.py:53: UserWarning: TypedStorage is deprecated. It will be removed in the future and UntypedStorage will be the only storage class. This should only matter to you if you are using storages directly.  To access UntypedStorage directly, use tensor.untyped_storage() instead of tensor.storage()\n",
      "  storage = value.storage()._new_shared(numel)\n",
      "/opt/homebrew/lib/python3.11/site-packages/torch_geometric/loader/utils.py:53: UserWarning: TypedStorage is deprecated. It will be removed in the future and UntypedStorage will be the only storage class. This should only matter to you if you are using storages directly.  To access UntypedStorage directly, use tensor.untyped_storage() instead of tensor.storage()\n",
      "  storage = value.storage()._new_shared(numel)\n",
      "/opt/homebrew/lib/python3.11/site-packages/torch_geometric/loader/utils.py:53: UserWarning: TypedStorage is deprecated. It will be removed in the future and UntypedStorage will be the only storage class. This should only matter to you if you are using storages directly.  To access UntypedStorage directly, use tensor.untyped_storage() instead of tensor.storage()\n",
      "  storage = value.storage()._new_shared(numel)\n",
      "/opt/homebrew/lib/python3.11/site-packages/torch_geometric/loader/utils.py:53: UserWarning: TypedStorage is deprecated. It will be removed in the future and UntypedStorage will be the only storage class. This should only matter to you if you are using storages directly.  To access UntypedStorage directly, use tensor.untyped_storage() instead of tensor.storage()\n",
      "  storage = value.storage()._new_shared(numel)\n",
      "/opt/homebrew/lib/python3.11/site-packages/torch_geometric/loader/utils.py:53: UserWarning: TypedStorage is deprecated. It will be removed in the future and UntypedStorage will be the only storage class. This should only matter to you if you are using storages directly.  To access UntypedStorage directly, use tensor.untyped_storage() instead of tensor.storage()\n",
      "  storage = value.storage()._new_shared(numel)\n",
      "/opt/homebrew/lib/python3.11/site-packages/torch_geometric/loader/utils.py:53: UserWarning: TypedStorage is deprecated. It will be removed in the future and UntypedStorage will be the only storage class. This should only matter to you if you are using storages directly.  To access UntypedStorage directly, use tensor.untyped_storage() instead of tensor.storage()\n",
      "  storage = value.storage()._new_shared(numel)\n",
      "/opt/homebrew/lib/python3.11/site-packages/torch_geometric/loader/utils.py:53: UserWarning: TypedStorage is deprecated. It will be removed in the future and UntypedStorage will be the only storage class. This should only matter to you if you are using storages directly.  To access UntypedStorage directly, use tensor.untyped_storage() instead of tensor.storage()\n",
      "  storage = value.storage()._new_shared(numel)\n",
      "/opt/homebrew/lib/python3.11/site-packages/torch_geometric/loader/utils.py:53: UserWarning: TypedStorage is deprecated. It will be removed in the future and UntypedStorage will be the only storage class. This should only matter to you if you are using storages directly.  To access UntypedStorage directly, use tensor.untyped_storage() instead of tensor.storage()\n",
      "  storage = value.storage()._new_shared(numel)\n",
      "/opt/homebrew/lib/python3.11/site-packages/torch_geometric/loader/utils.py:53: UserWarning: TypedStorage is deprecated. It will be removed in the future and UntypedStorage will be the only storage class. This should only matter to you if you are using storages directly.  To access UntypedStorage directly, use tensor.untyped_storage() instead of tensor.storage()\n",
      "  storage = value.storage()._new_shared(numel)\n"
     ]
    }
   ],
   "source": [
    "i = 1\n",
    "for b in loader_pyg:\n",
    "    i += 1\n",
    "    if i == 100:\n",
    "        break\n",
    "start = time.time()\n",
    "i = 1\n",
    "for b in loader_pyg:\n",
    "    i += 1\n",
    "    if i == 100:\n",
    "        break\n",
    "end = time.time() - start"
   ]
  },
  {
   "cell_type": "code",
   "execution_count": 12,
   "metadata": {},
   "outputs": [
    {
     "data": {
      "text/plain": [
       "(100, 0.9346771240234375)"
      ]
     },
     "execution_count": 12,
     "metadata": {},
     "output_type": "execute_result"
    }
   ],
   "source": [
    "i, end"
   ]
  }
 ],
 "metadata": {
  "kernelspec": {
   "display_name": "Python 3",
   "language": "python",
   "name": "python3"
  },
  "language_info": {
   "codemirror_mode": {
    "name": "ipython",
    "version": 3
   },
   "file_extension": ".py",
   "mimetype": "text/x-python",
   "name": "python",
   "nbconvert_exporter": "python",
   "pygments_lexer": "ipython3",
   "version": "3.11.2"
  },
  "orig_nbformat": 4,
  "vscode": {
   "interpreter": {
    "hash": "e7370f93d1d0cde622a1f8e1c04877d8463912d04d973331ad4851f04de6915a"
   }
  }
 },
 "nbformat": 4,
 "nbformat_minor": 2
}
