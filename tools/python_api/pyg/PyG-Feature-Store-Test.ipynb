{
 "cells": [
  {
   "cell_type": "code",
   "execution_count": 1,
   "metadata": {},
   "outputs": [
    {
     "name": "stdout",
     "output_type": "stream",
     "text": [
      "rm -rf tools/python_api/build\n",
      "cd external && \\\n",
      "\tmkdir -p build && \\\n",
      "\tcd build && \\\n",
      "\tcmake    -DCMAKE_BUILD_TYPE=Release ../ && \\\n",
      "\tcmake --build . --config Release -- -j 20\n",
      "-- Configuring done\n",
      "-- Generating done\n",
      "-- Build files have been written to: /Users/lc/Developer/kuzu/external/build\n",
      "[100%] Built target apache_arrow\n",
      "mkdir -p build/release && \\\n",
      "\tcd build/release && \\\n",
      "\tcmake    -DCMAKE_BUILD_TYPE=Release ../.. && \\\n",
      "\tcmake --build . --config Release -- -j 20\n",
      "-- pybind11 v2.11.0 dev1\n",
      "-- Configuring done\n",
      "-- Generating done\n",
      "-- Build files have been written to: /Users/lc/Developer/kuzu/build/release\n",
      "[  1%] Built target utf8proc\n",
      "[  2%] Built target kuzu_transaction\n",
      "[  2%] Built target kuzu_common_csv_reader\n",
      "[  3%] Built target kuzu_common_data_chunk\n",
      "[  3%] Built target kuzu_common_task_system\n",
      "[  3%] Built target kuzu_catalog\n",
      "[  3%] Built target kuzu_common_arrow\n",
      "[  4%] Built target kuzu_binder_expression\n",
      "[  5%] Built target kuzu_common_vector\n",
      "[  6%] Built target kuzu_binder\n",
      "[  7%] Built target kuzu_optimizer\n",
      "[  9%] Built target kuzu_binder_query\n",
      "[  9%] Built target kuzu_parser_expression\n",
      "[ 10%] Built target kuzu_expression_evaluator\n",
      "[ 10%] Built target kuzu_parser_query\n",
      "[ 10%] Built target kuzu_parser\n",
      "[ 12%] Built target kuzu_common_types\n",
      "[ 15%] Built target kuzu_binder_bind\n",
      "[ 15%] Built target kuzu_parser_antlr_parser\n",
      "[ 15%] Built target kuzu_main\n",
      "[ 15%] Built target kuzu_processor\n",
      "[ 18%] Built target kuzu_common\n",
      "[ 20%] Built target kuzu_binder_bind_expression\n",
      "[ 21%] Built target kuzu_processor_operator_hash_join\n",
      "[ 21%] Built target kuzu_processor_operator_intersect\n",
      "[ 26%] Built target kuzu_function\n",
      "[ 26%] Built target kuzu_processor_operator_aggregate\n",
      "[ 26%] Built target kuzu_processor_operator_table_scan\n",
      "[ 26%] Built target kuzu_processor_operator_copy\n",
      "[ 28%] Built target kuzu_planner\n",
      "[ 29%] Built target kuzu_processor_operator_ver_length_extend\n",
      "[ 34%] Built target re2\n",
      "[ 36%] Built target kuzu_processor_operator_update\n",
      "[ 36%] Built target kuzu_processor_result\n",
      "[ 38%] Built target kuzu_processor_operator_order_by\n",
      "[ 40%] Built target kuzu_processor_operator_ddl\n",
      "[ 42%] Built target kuzu_storage\n",
      "[ 42%] Built target kuzu_storage_buffer_manager\n",
      "[ 43%] Built target kuzu_processor_operator_scan\n",
      "[ 44%] Built target kuzu_storage_in_mem_storage_structure\n",
      "[ 44%] Built target kuzu_storage_in_mem_csv_copier\n",
      "[ 45%] Built target kuzu_storage_index\n",
      "[ 45%] Built target kuzu_storage_wal\n",
      "[ 48%] Built target kuzu_processor_operator\n",
      "[ 51%] Built target kuzu_storage_lists\n",
      "[ 51%] Built target kuzu_storage_structure\n",
      "[ 53%] Built target kuzu_storage_store\n",
      "[ 58%] Built target kuzu_planner_operator\n",
      "[ 64%] Built target kuzu_processor_mapper\n",
      "[ 97%] Built target antlr4_runtime\n",
      "[ 98%] Built target antlr4_cypher\n",
      "[ 98%] Built target kuzu_shared\n",
      "[ 98%] Built target kuzu\n",
      "[ 99%] Built target kuzu_shell\n",
      "[ 99%] \u001b[32m\u001b[1mLinking CXX shared library /Users/lc/Developer/kuzu/tools/python_api/build/kuzu/_kuzu.cpython-310-darwin.so\u001b[0m\n",
      "ld: warning: -undefined dynamic_lookup may not work with chained fixups\n",
      "[100%] Built target _kuzu\n"
     ]
    }
   ],
   "source": [
    "!cd /Users/lc/Developer/kuzu &&  make clean-python-api && make release NUM_THREADS=20 "
   ]
  },
  {
   "cell_type": "code",
   "execution_count": 2,
   "metadata": {},
   "outputs": [],
   "source": [
    "import sys\n",
    "sys.path.append('/Users/lc/Developer/kuzu/tools/python_api/build')\n",
    "import kuzu"
   ]
  },
  {
   "cell_type": "code",
   "execution_count": 3,
   "metadata": {},
   "outputs": [],
   "source": [
    "import torch_geometric.transforms as T\n",
    "from torch_geometric.datasets import OGB_MAG\n",
    "\n",
    "\n",
    "dataset = OGB_MAG(root='/Users/lc/Developer/ogb_pytorch', preprocess='metapath2vec', transform=T.ToUndirected())\n",
    "data = dataset[0]"
   ]
  },
  {
   "cell_type": "code",
   "execution_count": 4,
   "metadata": {},
   "outputs": [],
   "source": [
    "import torch"
   ]
  },
  {
   "cell_type": "code",
   "execution_count": 5,
   "metadata": {},
   "outputs": [],
   "source": [
    "DB_PATH = '/Users/lc/Developer/kuzu_ogb_mag'\n",
    "db = kuzu.Database(DB_PATH)"
   ]
  },
  {
   "cell_type": "code",
   "execution_count": 6,
   "metadata": {},
   "outputs": [],
   "source": [
    "conn = kuzu.Connection(db)"
   ]
  },
  {
   "cell_type": "code",
   "execution_count": 7,
   "metadata": {},
   "outputs": [],
   "source": [
    "fs, gs = db.get_torch_geometric_remote_backend()"
   ]
  },
  {
   "cell_type": "code",
   "execution_count": 8,
   "metadata": {},
   "outputs": [],
   "source": [
    "from torch_geometric.loader import NeighborLoader\n"
   ]
  },
  {
   "cell_type": "code",
   "execution_count": 9,
   "metadata": {},
   "outputs": [],
   "source": [
    "loader_kuzu = NeighborLoader(\n",
    "    data=(fs, gs),\n",
    "    num_neighbors={key.edge_type : [8] * 2 for key in gs.get_all_edge_attrs()},\n",
    "    # Use a batch size of 128 for sampling training nodes of type paper\n",
    "    batch_size=128,\n",
    "    input_nodes=('paper', torch.arange(0, data['paper'].num_nodes)),\n",
    "    input_time=None\n",
    ")"
   ]
  },
  {
   "cell_type": "code",
   "execution_count": 10,
   "metadata": {},
   "outputs": [
    {
     "name": "stdout",
     "output_type": "stream",
     "text": [
      "28.71490478515625\n",
      "28.46481680870056\n",
      "27.981308937072754\n",
      "27.89212918281555\n",
      "28.72823977470398\n",
      "28.5123131275177\n",
      "28.577126264572144\n",
      "28.54621911048889\n",
      "28.4129798412323\n",
      "=====\n",
      "28.425559759140015\n"
     ]
    }
   ],
   "source": [
    "import time\n",
    "times = []\n",
    "for i in range(10):\n",
    "    start = time.time()\n",
    "    next(iter(loader_kuzu))\n",
    "    end = time.time()\n",
    "    if i > 0:\n",
    "        times.append(end - start)\n",
    "        print(end - start)\n",
    "print(\"=====\")\n",
    "print(sum(times) / len(times))"
   ]
  },
  {
   "cell_type": "code",
   "execution_count": 11,
   "metadata": {},
   "outputs": [],
   "source": [
    "loader_pyg = NeighborLoader(\n",
    "    data=data,\n",
    "    num_neighbors={key.edge_type : [8] * 2 for key in gs.get_all_edge_attrs()},\n",
    "    # Use a batch size of 128 for sampling training nodes of type paper\n",
    "    batch_size=128,\n",
    "    input_nodes=('paper', torch.arange(0, data['paper'].num_nodes)),\n",
    "    input_time=None\n",
    ")"
   ]
  },
  {
   "cell_type": "code",
   "execution_count": 12,
   "metadata": {},
   "outputs": [
    {
     "name": "stdout",
     "output_type": "stream",
     "text": [
      "0.023946046829223633\n",
      "0.02199387550354004\n",
      "0.02047896385192871\n",
      "0.023924827575683594\n",
      "0.021136045455932617\n",
      "0.02242588996887207\n",
      "0.022296905517578125\n",
      "0.02095818519592285\n",
      "0.020947933197021484\n",
      "=====\n",
      "0.022012074788411457\n"
     ]
    }
   ],
   "source": [
    "import time\n",
    "times = []\n",
    "for i in range(10):\n",
    "    start = time.time()\n",
    "    next(iter(loader_pyg))\n",
    "    end = time.time()\n",
    "    if i > 0:\n",
    "        times.append(end - start)\n",
    "        print(end - start)\n",
    "print(\"=====\")\n",
    "print(sum(times) / len(times))"
   ]
  }
 ],
 "metadata": {
  "kernelspec": {
   "display_name": "Python 3",
   "language": "python",
   "name": "python3"
  },
  "language_info": {
   "codemirror_mode": {
    "name": "ipython",
    "version": 3
   },
   "file_extension": ".py",
   "mimetype": "text/x-python",
   "name": "python",
   "nbconvert_exporter": "python",
   "pygments_lexer": "ipython3",
   "version": "3.10.9"
  },
  "orig_nbformat": 4,
  "vscode": {
   "interpreter": {
    "hash": "b0fa6594d8f4cbf19f97940f81e996739fb7646882a419484c72d19e05852a7e"
   }
  }
 },
 "nbformat": 4,
 "nbformat_minor": 2
}
