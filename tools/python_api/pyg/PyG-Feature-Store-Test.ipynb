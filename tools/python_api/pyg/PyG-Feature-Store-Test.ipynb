{
 "cells": [
  {
   "cell_type": "code",
   "execution_count": 1,
   "metadata": {},
   "outputs": [
    {
     "name": "stdout",
     "output_type": "stream",
     "text": [
      "rm -rf tools/python_api/build\n",
      "cd external && \\\n",
      "\tmkdir -p build && \\\n",
      "\tcd build && \\\n",
      "\tcmake    -DCMAKE_BUILD_TYPE=Release ../ && \\\n",
      "\tcmake --build . --config Release -- -j 20\n",
      "-- Configuring done (0.0s)\n",
      "-- Generating done (0.0s)\n",
      "-- Build files have been written to: /Users/lc/Developer/kuzu/external/build\n",
      "[100%] Built target apache_arrow\n",
      "mkdir -p build/release && \\\n",
      "\tcd build/release && \\\n",
      "\tcmake    -DCMAKE_BUILD_TYPE=Release ../.. && \\\n",
      "\tcmake --build . --config Release -- -j 20\n",
      "-- pybind11 v2.11.0 dev1\n",
      "-- Configuring done (0.1s)\n",
      "-- Generating done (0.3s)\n",
      "-- Build files have been written to: /Users/lc/Developer/kuzu/build/release\n",
      "[  1%] Built target utf8proc\n",
      "[  1%] Built target kuzu_transaction\n",
      "[  1%] Built target kuzu_common_copier_config\n",
      "[  1%] Built target kuzu_common_vector\n",
      "[  2%] Built target kuzu_common_data_chunk\n",
      "[  3%] Built target kuzu_common_task_system\n",
      "[  3%] Built target kuzu_common_arrow\n",
      "[  3%] Built target kuzu_catalog\n",
      "[  4%] Built target kuzu_binder_expression\n",
      "[  5%] Built target kuzu_binder\n",
      "[  6%] Built target kuzu_expression_evaluator\n",
      "[  6%] Built target kuzu_parser_expression\n",
      "[  8%] Built target kuzu_binder_query\n",
      "[  9%] Built target kuzu_parser_query\n",
      "[ 11%] Built target kuzu_common_types\n",
      "[ 12%] Built target kuzu_parser\n",
      "[ 13%] Built target kuzu_binder_bind\n",
      "[ 13%] Built target kuzu_parser_antlr_parser\n",
      "[ 14%] Built target kuzu_planner_join_order\n",
      "[ 16%] Built target kuzu_optimizer\n",
      "[ 16%] Built target kuzu_processor\n",
      "[ 18%] Built target kuzu_main\n",
      "[ 20%] Built target kuzu_common\n",
      "[ 22%] Built target kuzu_binder_bind_expression\n",
      "[ 23%] Built target kuzu_planner\n",
      "[ 26%] Built target kuzu_function\n",
      "[ 27%] Built target kuzu_processor_operator_hash_join\n",
      "[ 28%] Built target kuzu_processor_operator_intersect\n",
      "[ 29%] Built target kuzu_processor_operator_copy\n",
      "[ 34%] Built target re2\n",
      "[ 35%] Built target kuzu_processor_operator_table_scan\n",
      "[ 35%] Built target kuzu_processor_operator_update\n",
      "[ 36%] Built target kuzu_processor_operator_aggregate\n",
      "[ 37%] Built target kuzu_processor_operator_ver_length_extend\n",
      "[ 38%] Built target kuzu_processor_operator_ddl\n",
      "[ 39%] Built target kuzu_processor_result\n",
      "[ 40%] Built target kuzu_storage_buffer_manager\n",
      "[ 41%] Built target kuzu_processor_operator_order_by\n",
      "[ 42%] Built target kuzu_storage\n",
      "[ 42%] Built target kuzu_storage_in_mem_storage_structure\n",
      "[ 43%] Built target kuzu_processor_operator_scan\n",
      "[ 44%] Built target kuzu_storage_wal\n",
      "[ 45%] Built target kuzu_storage_index\n",
      "[ 48%] Built target kuzu_processor_operator\n",
      "[ 49%] Built target kuzu_storage_in_mem_csv_copier\n",
      "[ 50%] Built target kuzu_storage_lists\n",
      "[ 51%] Built target kuzu_storage_structure\n",
      "[ 53%] Built target kuzu_storage_store\n",
      "[ 59%] Built target kuzu_planner_operator\n",
      "[ 65%] Built target kuzu_processor_mapper\n",
      "[ 97%] Built target antlr4_runtime\n",
      "[ 98%] Built target antlr4_cypher\n",
      "[ 98%] Built target kuzu_shared\n",
      "[ 98%] Built target kuzu\n",
      "[ 99%] Built target kuzu_shell\n",
      "[ 99%] \u001b[32m\u001b[1mLinking CXX shared library /Users/lc/Developer/kuzu/tools/python_api/build/kuzu/_kuzu.cpython-311-darwin.so\u001b[0m\n",
      "ld: warning: -undefined dynamic_lookup may not work with chained fixups\n",
      "[100%] Built target _kuzu\n"
     ]
    }
   ],
   "source": [
    "!cd ~/Developer/kuzu/ &&  make clean-python-api && make release NUM_THREADS=20"
   ]
  },
  {
   "cell_type": "code",
   "execution_count": 2,
   "metadata": {},
   "outputs": [],
   "source": [
    "import sys\n",
    "sys.path.append('/Users/lc/Developer/kuzu/tools/python_api/build')\n",
    "import kuzu\n",
    "import torch\n",
    "import time\n",
    "from torch_geometric.loader import NeighborLoader"
   ]
  },
  {
   "cell_type": "code",
   "execution_count": 2,
   "metadata": {},
   "outputs": [],
   "source": [
    "DB_PATH = '/Users/lc/Developer/kuzu_ogb_mag'\n",
    "db = kuzu.Database(DB_PATH, buffer_pool_size=1024**3)\n",
    "fs, gs = db.get_torch_geometric_remote_backend()"
   ]
  },
  {
   "cell_type": "code",
   "execution_count": 3,
   "metadata": {},
   "outputs": [
    {
     "data": {
      "text/plain": [
       "tensor([[ 18432,  18432,  18432,  ..., 706559, 706559, 706559],\n",
       "        [ 97431, 275452, 288236,  ..., 634310, 667109, 731024]])"
      ]
     },
     "execution_count": 3,
     "metadata": {},
     "output_type": "execute_result"
    }
   ],
   "source": [
    "gs.get_edge_index(\n",
    "        ('paper', 'cites', 'paper'), layout='coo', is_sorted=False)"
   ]
  },
  {
   "cell_type": "code",
   "execution_count": 11,
   "metadata": {},
   "outputs": [
    {
     "data": {
      "text/plain": [
       "tensor([0])"
      ]
     },
     "execution_count": 11,
     "metadata": {},
     "output_type": "execute_result"
    }
   ],
   "source": [
    "fs['paper', 'year', 100]"
   ]
  },
  {
   "cell_type": "code",
   "execution_count": 3,
   "metadata": {},
   "outputs": [
    {
     "ename": "KeyboardInterrupt",
     "evalue": "",
     "output_type": "error",
     "traceback": [
      "\u001b[0;31m---------------------------------------------------------------------------\u001b[0m",
      "\u001b[0;31mKeyboardInterrupt\u001b[0m                         Traceback (most recent call last)",
      "Cell \u001b[0;32mIn[3], line 1\u001b[0m\n\u001b[0;32m----> 1\u001b[0m loader_kuzu \u001b[39m=\u001b[39m NeighborLoader(\n\u001b[1;32m      2\u001b[0m     data\u001b[39m=\u001b[39;49m(fs, gs),\n\u001b[1;32m      3\u001b[0m     num_neighbors\u001b[39m=\u001b[39;49m{key\u001b[39m.\u001b[39;49medge_type : [\u001b[39m30\u001b[39;49m] \u001b[39m*\u001b[39;49m \u001b[39m2\u001b[39;49m \u001b[39mfor\u001b[39;49;00m key \u001b[39min\u001b[39;49;00m gs\u001b[39m.\u001b[39;49mget_all_edge_attrs()},\n\u001b[1;32m      4\u001b[0m     \u001b[39m# Use a batch size of 128 for sampling training nodes of type paper\u001b[39;49;00m\n\u001b[1;32m      5\u001b[0m     batch_size\u001b[39m=\u001b[39;49m\u001b[39m128\u001b[39;49m,\n\u001b[1;32m      6\u001b[0m     input_nodes\u001b[39m=\u001b[39;49m(\u001b[39m'\u001b[39;49m\u001b[39mpaper\u001b[39;49m\u001b[39m'\u001b[39;49m, torch\u001b[39m.\u001b[39;49marange(\u001b[39m0\u001b[39;49m, \u001b[39m736389\u001b[39;49m)),\n\u001b[1;32m      7\u001b[0m     input_time\u001b[39m=\u001b[39;49m\u001b[39mNone\u001b[39;49;00m\n\u001b[1;32m      8\u001b[0m )\n",
      "File \u001b[0;32m/opt/homebrew/lib/python3.11/site-packages/torch_geometric/loader/neighbor_loader.py:199\u001b[0m, in \u001b[0;36mNeighborLoader.__init__\u001b[0;34m(self, data, num_neighbors, input_nodes, input_time, replace, directed, disjoint, temporal_strategy, time_attr, transform, is_sorted, filter_per_worker, neighbor_sampler, **kwargs)\u001b[0m\n\u001b[1;32m    194\u001b[0m     \u001b[39mraise\u001b[39;00m \u001b[39mValueError\u001b[39;00m(\u001b[39m\"\u001b[39m\u001b[39mReceived conflicting \u001b[39m\u001b[39m'\u001b[39m\u001b[39minput_time\u001b[39m\u001b[39m'\u001b[39m\u001b[39m and \u001b[39m\u001b[39m\"\u001b[39m\n\u001b[1;32m    195\u001b[0m                      \u001b[39m\"\u001b[39m\u001b[39m'\u001b[39m\u001b[39mtime_attr\u001b[39m\u001b[39m'\u001b[39m\u001b[39m arguments: \u001b[39m\u001b[39m'\u001b[39m\u001b[39minput_time\u001b[39m\u001b[39m'\u001b[39m\u001b[39m is set \u001b[39m\u001b[39m\"\u001b[39m\n\u001b[1;32m    196\u001b[0m                      \u001b[39m\"\u001b[39m\u001b[39mwhile \u001b[39m\u001b[39m'\u001b[39m\u001b[39mtime_attr\u001b[39m\u001b[39m'\u001b[39m\u001b[39m is not set.\u001b[39m\u001b[39m\"\u001b[39m)\n\u001b[1;32m    198\u001b[0m \u001b[39mif\u001b[39;00m neighbor_sampler \u001b[39mis\u001b[39;00m \u001b[39mNone\u001b[39;00m:\n\u001b[0;32m--> 199\u001b[0m     neighbor_sampler \u001b[39m=\u001b[39m NeighborSampler(\n\u001b[1;32m    200\u001b[0m         data,\n\u001b[1;32m    201\u001b[0m         num_neighbors\u001b[39m=\u001b[39;49mnum_neighbors,\n\u001b[1;32m    202\u001b[0m         replace\u001b[39m=\u001b[39;49mreplace,\n\u001b[1;32m    203\u001b[0m         directed\u001b[39m=\u001b[39;49mdirected,\n\u001b[1;32m    204\u001b[0m         disjoint\u001b[39m=\u001b[39;49mdisjoint,\n\u001b[1;32m    205\u001b[0m         temporal_strategy\u001b[39m=\u001b[39;49mtemporal_strategy,\n\u001b[1;32m    206\u001b[0m         input_type\u001b[39m=\u001b[39;49mnode_type,\n\u001b[1;32m    207\u001b[0m         time_attr\u001b[39m=\u001b[39;49mtime_attr,\n\u001b[1;32m    208\u001b[0m         is_sorted\u001b[39m=\u001b[39;49mis_sorted,\n\u001b[1;32m    209\u001b[0m         share_memory\u001b[39m=\u001b[39;49mkwargs\u001b[39m.\u001b[39;49mget(\u001b[39m'\u001b[39;49m\u001b[39mnum_workers\u001b[39;49m\u001b[39m'\u001b[39;49m, \u001b[39m0\u001b[39;49m) \u001b[39m>\u001b[39;49m \u001b[39m0\u001b[39;49m,\n\u001b[1;32m    210\u001b[0m     )\n\u001b[1;32m    212\u001b[0m \u001b[39msuper\u001b[39m()\u001b[39m.\u001b[39m\u001b[39m__init__\u001b[39m(\n\u001b[1;32m    213\u001b[0m     data\u001b[39m=\u001b[39mdata,\n\u001b[1;32m    214\u001b[0m     node_sampler\u001b[39m=\u001b[39mneighbor_sampler,\n\u001b[0;32m   (...)\u001b[0m\n\u001b[1;32m    219\u001b[0m     \u001b[39m*\u001b[39m\u001b[39m*\u001b[39mkwargs,\n\u001b[1;32m    220\u001b[0m )\n",
      "File \u001b[0;32m/opt/homebrew/lib/python3.11/site-packages/torch_geometric/sampler/neighbor_sampler.py:170\u001b[0m, in \u001b[0;36mNeighborSampler.__init__\u001b[0;34m(self, data, num_neighbors, replace, directed, disjoint, temporal_strategy, input_type, time_attr, is_sorted, share_memory)\u001b[0m\n\u001b[1;32m    167\u001b[0m \u001b[39mself\u001b[39m\u001b[39m.\u001b[39minput_type \u001b[39m=\u001b[39m input_type\n\u001b[1;32m    169\u001b[0m \u001b[39m# Obtain CSC representations for in-memory sampling:\u001b[39;00m\n\u001b[0;32m--> 170\u001b[0m row_dict, colptr_dict, perm_dict \u001b[39m=\u001b[39m graph_store\u001b[39m.\u001b[39;49mcsc()\n\u001b[1;32m    172\u001b[0m \u001b[39mself\u001b[39m\u001b[39m.\u001b[39mto_rel_type \u001b[39m=\u001b[39m {key: \u001b[39m'\u001b[39m\u001b[39m__\u001b[39m\u001b[39m'\u001b[39m\u001b[39m.\u001b[39mjoin(key) \u001b[39mfor\u001b[39;00m key \u001b[39min\u001b[39;00m \u001b[39mself\u001b[39m\u001b[39m.\u001b[39medge_types}\n\u001b[1;32m    173\u001b[0m \u001b[39mself\u001b[39m\u001b[39m.\u001b[39mto_edge_type \u001b[39m=\u001b[39m {\n\u001b[1;32m    174\u001b[0m     \u001b[39m'\u001b[39m\u001b[39m__\u001b[39m\u001b[39m'\u001b[39m\u001b[39m.\u001b[39mjoin(key): key\n\u001b[1;32m    175\u001b[0m     \u001b[39mfor\u001b[39;00m key \u001b[39min\u001b[39;00m \u001b[39mself\u001b[39m\u001b[39m.\u001b[39medge_types\n\u001b[1;32m    176\u001b[0m }\n",
      "File \u001b[0;32m/opt/homebrew/lib/python3.11/site-packages/torch_geometric/data/graph_store.py:315\u001b[0m, in \u001b[0;36mGraphStore.csc\u001b[0;34m(self, edge_types, store)\u001b[0m\n\u001b[1;32m    308\u001b[0m \u001b[39mdef\u001b[39;00m \u001b[39mcsc\u001b[39m(\n\u001b[1;32m    309\u001b[0m     \u001b[39mself\u001b[39m,\n\u001b[1;32m    310\u001b[0m     edge_types: Optional[List[Any]] \u001b[39m=\u001b[39m \u001b[39mNone\u001b[39;00m,\n\u001b[1;32m    311\u001b[0m     store: \u001b[39mbool\u001b[39m \u001b[39m=\u001b[39m \u001b[39mFalse\u001b[39;00m,\n\u001b[1;32m    312\u001b[0m ) \u001b[39m-\u001b[39m\u001b[39m>\u001b[39m ConversionOutputType:\n\u001b[1;32m    313\u001b[0m \u001b[39m    \u001b[39m\u001b[39mr\u001b[39m\u001b[39m\"\"\"Converts the edge indices in the graph store to CSC format,\u001b[39;00m\n\u001b[1;32m    314\u001b[0m \u001b[39m    optionally storing the converted edge indices in the graph store.\"\"\"\u001b[39;00m\n\u001b[0;32m--> 315\u001b[0m     \u001b[39mreturn\u001b[39;00m \u001b[39mself\u001b[39;49m\u001b[39m.\u001b[39;49m_all_edges_to_layout(EdgeLayout\u001b[39m.\u001b[39;49mCSC, edge_types, store)\n",
      "File \u001b[0;32m/opt/homebrew/lib/python3.11/site-packages/torch_geometric/data/graph_store.py:261\u001b[0m, in \u001b[0;36mGraphStore._all_edges_to_layout\u001b[0;34m(self, layout, edge_types, store)\u001b[0m\n\u001b[1;32m    257\u001b[0m     \u001b[39melse\u001b[39;00m:\n\u001b[1;32m    258\u001b[0m         from_attr \u001b[39m=\u001b[39m edge_type_attrs[edge_type_layouts\u001b[39m.\u001b[39mindex(\n\u001b[1;32m    259\u001b[0m             EdgeLayout\u001b[39m.\u001b[39mCSR)]\n\u001b[0;32m--> 261\u001b[0m     row, col, perm \u001b[39m=\u001b[39m \u001b[39mself\u001b[39;49m\u001b[39m.\u001b[39;49m_edge_to_layout(from_attr, layout)\n\u001b[1;32m    263\u001b[0m row_dict[from_attr\u001b[39m.\u001b[39medge_type] \u001b[39m=\u001b[39m row\n\u001b[1;32m    264\u001b[0m col_dict[from_attr\u001b[39m.\u001b[39medge_type] \u001b[39m=\u001b[39m col\n",
      "File \u001b[0;32m/opt/homebrew/lib/python3.11/site-packages/torch_geometric/data/graph_store.py:200\u001b[0m, in \u001b[0;36mGraphStore._edge_to_layout\u001b[0;34m(self, attr, layout)\u001b[0m\n\u001b[1;32m    197\u001b[0m     row, col, perm \u001b[39m=\u001b[39m to_csc(adj, attr_copy, device\u001b[39m=\u001b[39m\u001b[39m'\u001b[39m\u001b[39mcpu\u001b[39m\u001b[39m'\u001b[39m)\n\u001b[1;32m    199\u001b[0m \u001b[39melse\u001b[39;00m:\n\u001b[0;32m--> 200\u001b[0m     adj \u001b[39m=\u001b[39m edge_tensor_type_to_adj_type(attr, from_tuple)\n\u001b[1;32m    202\u001b[0m     \u001b[39m# Actually colptr, row, perm\u001b[39;00m\n\u001b[1;32m    203\u001b[0m     col, row, perm \u001b[39m=\u001b[39m to_csc(adj, attr, device\u001b[39m=\u001b[39m\u001b[39m'\u001b[39m\u001b[39mcpu\u001b[39m\u001b[39m'\u001b[39m)\n",
      "File \u001b[0;32m/opt/homebrew/lib/python3.11/site-packages/torch_geometric/data/graph_store.py:352\u001b[0m, in \u001b[0;36medge_tensor_type_to_adj_type\u001b[0;34m(attr, tensor_tuple)\u001b[0m\n\u001b[1;32m    347\u001b[0m \u001b[39mdef\u001b[39;00m \u001b[39medge_tensor_type_to_adj_type\u001b[39m(\n\u001b[1;32m    348\u001b[0m     attr: EdgeAttr,\n\u001b[1;32m    349\u001b[0m     tensor_tuple: EdgeTensorType,\n\u001b[1;32m    350\u001b[0m ) \u001b[39m-\u001b[39m\u001b[39m>\u001b[39m Adj:\n\u001b[1;32m    351\u001b[0m \u001b[39m    \u001b[39m\u001b[39mr\u001b[39m\u001b[39m\"\"\"Converts an EdgeTensorType tensor tuple to a PyG Adj tensor.\"\"\"\u001b[39;00m\n\u001b[0;32m--> 352\u001b[0m     src, dst \u001b[39m=\u001b[39m tensor_tuple\n\u001b[1;32m    354\u001b[0m     \u001b[39mif\u001b[39;00m attr\u001b[39m.\u001b[39mlayout \u001b[39m==\u001b[39m EdgeLayout\u001b[39m.\u001b[39mCOO:  \u001b[39m# COO: (row, col)\u001b[39;00m\n\u001b[1;32m    355\u001b[0m         \u001b[39massert\u001b[39;00m src\u001b[39m.\u001b[39mdim() \u001b[39m==\u001b[39m \u001b[39m1\u001b[39m \u001b[39mand\u001b[39;00m dst\u001b[39m.\u001b[39mdim() \u001b[39m==\u001b[39m \u001b[39m1\u001b[39m \u001b[39mand\u001b[39;00m src\u001b[39m.\u001b[39mnumel() \u001b[39m==\u001b[39m dst\u001b[39m.\u001b[39mnumel()\n",
      "File \u001b[0;32m/opt/homebrew/lib/python3.11/site-packages/torch/_tensor.py:940\u001b[0m, in \u001b[0;36mTensor.__iter__\u001b[0;34m(self)\u001b[0m\n\u001b[1;32m    931\u001b[0m \u001b[39mif\u001b[39;00m torch\u001b[39m.\u001b[39m_C\u001b[39m.\u001b[39m_get_tracing_state():\n\u001b[1;32m    932\u001b[0m     warnings\u001b[39m.\u001b[39mwarn(\n\u001b[1;32m    933\u001b[0m         \u001b[39m\"\u001b[39m\u001b[39mIterating over a tensor might cause the trace to be incorrect. \u001b[39m\u001b[39m\"\u001b[39m\n\u001b[1;32m    934\u001b[0m         \u001b[39m\"\u001b[39m\u001b[39mPassing a tensor of different shape won\u001b[39m\u001b[39m'\u001b[39m\u001b[39mt change the number of \u001b[39m\u001b[39m\"\u001b[39m\n\u001b[0;32m   (...)\u001b[0m\n\u001b[1;32m    938\u001b[0m         stacklevel\u001b[39m=\u001b[39m\u001b[39m2\u001b[39m,\n\u001b[1;32m    939\u001b[0m     )\n\u001b[0;32m--> 940\u001b[0m \u001b[39mreturn\u001b[39;00m \u001b[39miter\u001b[39m(\u001b[39mself\u001b[39;49m\u001b[39m.\u001b[39;49munbind(\u001b[39m0\u001b[39;49m))\n",
      "\u001b[0;31mKeyboardInterrupt\u001b[0m: "
     ]
    }
   ],
   "source": [
    "loader_kuzu = NeighborLoader(\n",
    "    data=(fs, gs),\n",
    "    num_neighbors={key.edge_type : [30] * 2 for key in gs.get_all_edge_attrs()},\n",
    "    # Use a batch size of 128 for sampling training nodes of type paper\n",
    "    batch_size=128,\n",
    "    input_nodes=('paper', torch.arange(0, 736389)),\n",
    "    input_time=None\n",
    ")"
   ]
  },
  {
   "cell_type": "code",
   "execution_count": 5,
   "metadata": {},
   "outputs": [
    {
     "data": {
      "text/plain": [
       "HeteroData(\n",
       "  \u001b[1mpaper\u001b[0m={\n",
       "    num_nodes=36060,\n",
       "    id=[36060],\n",
       "    x=[36060, 128],\n",
       "    year=[36060],\n",
       "    y=[36060],\n",
       "    input_id=[128],\n",
       "    batch_size=128\n",
       "  },\n",
       "  \u001b[1minstitution\u001b[0m={\n",
       "    num_nodes=333,\n",
       "    id=[333],\n",
       "    x=[333, 128]\n",
       "  },\n",
       "  \u001b[1mauthor\u001b[0m={\n",
       "    num_nodes=5762,\n",
       "    id=[5762],\n",
       "    x=[5762, 128]\n",
       "  },\n",
       "  \u001b[1mfield_of_study\u001b[0m={\n",
       "    num_nodes=2799,\n",
       "    id=[2799],\n",
       "    x=[2799, 128]\n",
       "  },\n",
       "  \u001b[1m(paper, has_topic, field_of_study)\u001b[0m={ edge_index=[2, 20795] },\n",
       "  \u001b[1m(author, affiliated_with, institution)\u001b[0m={ edge_index=[2, 0] },\n",
       "  \u001b[1m(institution, rev_affiliated_with, author)\u001b[0m={ edge_index=[2, 934] },\n",
       "  \u001b[1m(field_of_study, rev_has_topic, paper)\u001b[0m={ edge_index=[2, 12444] },\n",
       "  \u001b[1m(paper, cites, paper)\u001b[0m={ edge_index=[2, 22055] },\n",
       "  \u001b[1m(author, writes, paper)\u001b[0m={ edge_index=[2, 7979] },\n",
       "  \u001b[1m(paper, rev_writes, author)\u001b[0m={ edge_index=[2, 9110] }\n",
       ")"
      ]
     },
     "execution_count": 5,
     "metadata": {},
     "output_type": "execute_result"
    }
   ],
   "source": [
    "next(iter(loader_kuzu))"
   ]
  },
  {
   "cell_type": "code",
   "execution_count": 6,
   "metadata": {},
   "outputs": [],
   "source": [
    "i = 1\n",
    "for b in loader_kuzu:\n",
    "    i += 1\n",
    "    if i == 10:\n",
    "        break\n",
    "start = time.time()\n",
    "i = 1\n",
    "for b in loader_kuzu:\n",
    "    i += 1\n",
    "    if i == 10:\n",
    "        break\n",
    "end = time.time() - start"
   ]
  },
  {
   "cell_type": "code",
   "execution_count": 7,
   "metadata": {},
   "outputs": [
    {
     "data": {
      "text/plain": [
       "(10, 1.8295352458953857)"
      ]
     },
     "execution_count": 7,
     "metadata": {},
     "output_type": "execute_result"
    }
   ],
   "source": [
    "i, end"
   ]
  },
  {
   "cell_type": "code",
   "execution_count": 8,
   "metadata": {},
   "outputs": [],
   "source": [
    "import torch_geometric.transforms as T\n",
    "from torch_geometric.datasets import OGB_MAG\n",
    "import torch\n",
    "from torch_geometric.loader import NeighborLoader\n",
    "import time\n",
    "\n",
    "dataset = OGB_MAG(root='/Users/lc/Developer/ogb_pytorch', preprocess='metapath2vec', transform=T.ToUndirected())\n",
    "data = dataset[0]"
   ]
  },
  {
   "cell_type": "code",
   "execution_count": 9,
   "metadata": {},
   "outputs": [],
   "source": [
    "loader_pyg = NeighborLoader(\n",
    "    data=data,\n",
    "    num_neighbors={key: [30] * 2 for key in data.edge_types},\n",
    "    # Use a batch size of 128 for sampling training nodes of type paper\n",
    "    batch_size=128,\n",
    "    input_nodes=('paper', torch.arange(0, 736389)),\n",
    "    input_time=None,\n",
    "    num_workers=20,\n",
    "    filter_per_worker=True,\n",
    "    persistent_workers=True\n",
    ")"
   ]
  },
  {
   "cell_type": "code",
   "execution_count": 10,
   "metadata": {},
   "outputs": [
    {
     "name": "stderr",
     "output_type": "stream",
     "text": [
      "/opt/homebrew/lib/python3.11/site-packages/torch_geometric/loader/utils.py:53: UserWarning: TypedStorage is deprecated. It will be removed in the future and UntypedStorage will be the only storage class. This should only matter to you if you are using storages directly.  To access UntypedStorage directly, use tensor.untyped_storage() instead of tensor.storage()\n",
      "  storage = value.storage()._new_shared(numel)\n",
      "/opt/homebrew/lib/python3.11/site-packages/torch_geometric/loader/utils.py:53: UserWarning: TypedStorage is deprecated. It will be removed in the future and UntypedStorage will be the only storage class. This should only matter to you if you are using storages directly.  To access UntypedStorage directly, use tensor.untyped_storage() instead of tensor.storage()\n",
      "  storage = value.storage()._new_shared(numel)\n",
      "/opt/homebrew/lib/python3.11/site-packages/torch_geometric/loader/utils.py:53: UserWarning: TypedStorage is deprecated. It will be removed in the future and UntypedStorage will be the only storage class. This should only matter to you if you are using storages directly.  To access UntypedStorage directly, use tensor.untyped_storage() instead of tensor.storage()\n",
      "  storage = value.storage()._new_shared(numel)\n",
      "/opt/homebrew/lib/python3.11/site-packages/torch_geometric/loader/utils.py:53: UserWarning: TypedStorage is deprecated. It will be removed in the future and UntypedStorage will be the only storage class. This should only matter to you if you are using storages directly.  To access UntypedStorage directly, use tensor.untyped_storage() instead of tensor.storage()\n",
      "  storage = value.storage()._new_shared(numel)\n",
      "/opt/homebrew/lib/python3.11/site-packages/torch_geometric/loader/utils.py:53: UserWarning: TypedStorage is deprecated. It will be removed in the future and UntypedStorage will be the only storage class. This should only matter to you if you are using storages directly.  To access UntypedStorage directly, use tensor.untyped_storage() instead of tensor.storage()\n",
      "  storage = value.storage()._new_shared(numel)\n",
      "/opt/homebrew/lib/python3.11/site-packages/torch_geometric/loader/utils.py:53: UserWarning: TypedStorage is deprecated. It will be removed in the future and UntypedStorage will be the only storage class. This should only matter to you if you are using storages directly.  To access UntypedStorage directly, use tensor.untyped_storage() instead of tensor.storage()\n",
      "  storage = value.storage()._new_shared(numel)\n",
      "/opt/homebrew/lib/python3.11/site-packages/torch_geometric/loader/utils.py:53: UserWarning: TypedStorage is deprecated. It will be removed in the future and UntypedStorage will be the only storage class. This should only matter to you if you are using storages directly.  To access UntypedStorage directly, use tensor.untyped_storage() instead of tensor.storage()\n",
      "  storage = value.storage()._new_shared(numel)\n",
      "/opt/homebrew/lib/python3.11/site-packages/torch_geometric/loader/utils.py:53: UserWarning: TypedStorage is deprecated. It will be removed in the future and UntypedStorage will be the only storage class. This should only matter to you if you are using storages directly.  To access UntypedStorage directly, use tensor.untyped_storage() instead of tensor.storage()\n",
      "  storage = value.storage()._new_shared(numel)\n",
      "/opt/homebrew/lib/python3.11/site-packages/torch_geometric/loader/utils.py:53: UserWarning: TypedStorage is deprecated. It will be removed in the future and UntypedStorage will be the only storage class. This should only matter to you if you are using storages directly.  To access UntypedStorage directly, use tensor.untyped_storage() instead of tensor.storage()\n",
      "  storage = value.storage()._new_shared(numel)\n",
      "/opt/homebrew/lib/python3.11/site-packages/torch_geometric/loader/utils.py:53: UserWarning: TypedStorage is deprecated. It will be removed in the future and UntypedStorage will be the only storage class. This should only matter to you if you are using storages directly.  To access UntypedStorage directly, use tensor.untyped_storage() instead of tensor.storage()\n",
      "  storage = value.storage()._new_shared(numel)\n",
      "/opt/homebrew/lib/python3.11/site-packages/torch_geometric/loader/utils.py:53: UserWarning: TypedStorage is deprecated. It will be removed in the future and UntypedStorage will be the only storage class. This should only matter to you if you are using storages directly.  To access UntypedStorage directly, use tensor.untyped_storage() instead of tensor.storage()\n",
      "  storage = value.storage()._new_shared(numel)\n",
      "/opt/homebrew/lib/python3.11/site-packages/torch_geometric/loader/utils.py:53: UserWarning: TypedStorage is deprecated. It will be removed in the future and UntypedStorage will be the only storage class. This should only matter to you if you are using storages directly.  To access UntypedStorage directly, use tensor.untyped_storage() instead of tensor.storage()\n",
      "  storage = value.storage()._new_shared(numel)\n",
      "/opt/homebrew/lib/python3.11/site-packages/torch_geometric/loader/utils.py:53: UserWarning: TypedStorage is deprecated. It will be removed in the future and UntypedStorage will be the only storage class. This should only matter to you if you are using storages directly.  To access UntypedStorage directly, use tensor.untyped_storage() instead of tensor.storage()\n",
      "  storage = value.storage()._new_shared(numel)\n",
      "/opt/homebrew/lib/python3.11/site-packages/torch_geometric/loader/utils.py:53: UserWarning: TypedStorage is deprecated. It will be removed in the future and UntypedStorage will be the only storage class. This should only matter to you if you are using storages directly.  To access UntypedStorage directly, use tensor.untyped_storage() instead of tensor.storage()\n",
      "  storage = value.storage()._new_shared(numel)\n",
      "/opt/homebrew/lib/python3.11/site-packages/torch_geometric/loader/utils.py:53: UserWarning: TypedStorage is deprecated. It will be removed in the future and UntypedStorage will be the only storage class. This should only matter to you if you are using storages directly.  To access UntypedStorage directly, use tensor.untyped_storage() instead of tensor.storage()\n",
      "  storage = value.storage()._new_shared(numel)\n",
      "/opt/homebrew/lib/python3.11/site-packages/torch_geometric/loader/utils.py:53: UserWarning: TypedStorage is deprecated. It will be removed in the future and UntypedStorage will be the only storage class. This should only matter to you if you are using storages directly.  To access UntypedStorage directly, use tensor.untyped_storage() instead of tensor.storage()\n",
      "  storage = value.storage()._new_shared(numel)\n",
      "/opt/homebrew/lib/python3.11/site-packages/torch_geometric/loader/utils.py:53: UserWarning: TypedStorage is deprecated. It will be removed in the future and UntypedStorage will be the only storage class. This should only matter to you if you are using storages directly.  To access UntypedStorage directly, use tensor.untyped_storage() instead of tensor.storage()\n",
      "  storage = value.storage()._new_shared(numel)\n",
      "/opt/homebrew/lib/python3.11/site-packages/torch_geometric/loader/utils.py:53: UserWarning: TypedStorage is deprecated. It will be removed in the future and UntypedStorage will be the only storage class. This should only matter to you if you are using storages directly.  To access UntypedStorage directly, use tensor.untyped_storage() instead of tensor.storage()\n",
      "  storage = value.storage()._new_shared(numel)\n",
      "/opt/homebrew/lib/python3.11/site-packages/torch_geometric/loader/utils.py:53: UserWarning: TypedStorage is deprecated. It will be removed in the future and UntypedStorage will be the only storage class. This should only matter to you if you are using storages directly.  To access UntypedStorage directly, use tensor.untyped_storage() instead of tensor.storage()\n",
      "  storage = value.storage()._new_shared(numel)\n",
      "/opt/homebrew/lib/python3.11/site-packages/torch_geometric/loader/utils.py:53: UserWarning: TypedStorage is deprecated. It will be removed in the future and UntypedStorage will be the only storage class. This should only matter to you if you are using storages directly.  To access UntypedStorage directly, use tensor.untyped_storage() instead of tensor.storage()\n",
      "  storage = value.storage()._new_shared(numel)\n"
     ]
    }
   ],
   "source": [
    "i = 1\n",
    "for b in loader_pyg:\n",
    "    i += 1\n",
    "    if i == 100:\n",
    "        break\n",
    "start = time.time()\n",
    "i = 1\n",
    "for b in loader_pyg:\n",
    "    i += 1\n",
    "    if i == 100:\n",
    "        break\n",
    "end = time.time() - start"
   ]
  },
  {
   "cell_type": "code",
   "execution_count": 11,
   "metadata": {},
   "outputs": [
    {
     "data": {
      "text/plain": [
       "(100, 0.8017268180847168)"
      ]
     },
     "execution_count": 11,
     "metadata": {},
     "output_type": "execute_result"
    }
   ],
   "source": [
    "i, end"
   ]
  }
 ],
 "metadata": {
  "kernelspec": {
   "display_name": "Python 3",
   "language": "python",
   "name": "python3"
  },
  "language_info": {
   "codemirror_mode": {
    "name": "ipython",
    "version": 3
   },
   "file_extension": ".py",
   "mimetype": "text/x-python",
   "name": "python",
   "nbconvert_exporter": "python",
   "pygments_lexer": "ipython3",
   "version": "3.11.2"
  },
  "orig_nbformat": 4,
  "vscode": {
   "interpreter": {
    "hash": "e7370f93d1d0cde622a1f8e1c04877d8463912d04d973331ad4851f04de6915a"
   }
  }
 },
 "nbformat": 4,
 "nbformat_minor": 2
}
