{
 "cells": [
  {
   "cell_type": "code",
   "execution_count": 1,
   "metadata": {},
   "outputs": [
    {
     "name": "stdout",
     "output_type": "stream",
     "text": [
      "rm -rf tools/python_api/build\n",
      "cd external && \\\n",
      "\tmkdir -p build && \\\n",
      "\tcd build && \\\n",
      "\tcmake    -DCMAKE_BUILD_TYPE=Release ../ && \\\n",
      "\tcmake --build . --config Release -- -j 20\n",
      "-- Configuring done\n",
      "-- Generating done\n",
      "-- Build files have been written to: /Users/lc/Developer/kuzu/external/build\n",
      "[100%] Built target apache_arrow\n",
      "mkdir -p build/release && \\\n",
      "\tcd build/release && \\\n",
      "\tcmake    -DCMAKE_BUILD_TYPE=Release ../.. && \\\n",
      "\tcmake --build . --config Release -- -j 20\n",
      "-- pybind11 v2.11.0 dev1\n",
      "-- Configuring done\n",
      "-- Generating done\n",
      "-- Build files have been written to: /Users/lc/Developer/kuzu/build/release\n",
      "[  0%] Built target kuzu_transaction\n",
      "[  0%] Built target utf8proc\n",
      "[  0%] Built target kuzu_common_data_chunk\n",
      "[  1%] Built target kuzu_common_arrow\n",
      "[  1%] Built target kuzu_catalog\n",
      "[  3%] Built target kuzu_binder_expression\n",
      "[  3%] Built target kuzu_common_task_system\n",
      "[  3%] Built target kuzu_binder\n",
      "[  4%] Built target kuzu_common_vector\n",
      "[  4%] Built target kuzu_common_csv_reader\n",
      "[  5%] Built target kuzu_binder_query\n",
      "[  6%] Built target kuzu_parser\n",
      "[  7%] Built target kuzu_parser_expression\n",
      "[  7%] Built target kuzu_optimizer\n",
      "[  8%] Built target kuzu_expression_evaluator\n",
      "[  8%] Built target kuzu_parser_query\n",
      "[  9%] Built target kuzu_binder_bind\n",
      "[ 10%] Built target kuzu_common_types\n",
      "[ 12%] Built target kuzu_common\n",
      "[ 14%] Built target kuzu_processor\n",
      "[ 15%] Built target kuzu_main\n",
      "[ 17%] Built target kuzu_binder_bind_expression\n",
      "[ 17%] Built target kuzu_parser_antlr_parser\n",
      "[ 17%] Built target kuzu_processor_operator_intersect\n",
      "[ 18%] Built target kuzu_processor_operator_hash_join\n",
      "[ 20%] Built target kuzu_function\n",
      "[ 21%] Built target kuzu_processor_operator_copy\n",
      "[ 22%] Built target kuzu_processor_operator_table_scan\n",
      "[ 23%] Built target kuzu_processor_operator_aggregate\n",
      "[ 27%] Built target re2\n",
      "[ 27%] Built target kuzu_processor_operator_update\n",
      "[ 29%] Built target kuzu_processor_operator_ver_length_extend\n",
      "[ 29%] Built target kuzu_processor_operator_order_by\n",
      "[ 29%] Built target kuzu_processor_result\n",
      "[ 30%] Built target kuzu_planner\n",
      "[ 31%] Built target kuzu_storage\n",
      "[ 32%] Built target kuzu_processor_operator_ddl\n",
      "[ 33%] Built target kuzu_storage_buffer_manager\n",
      "[ 34%] Built target kuzu_storage_in_mem_storage_structure\n",
      "[ 34%] Built target kuzu_processor_operator_scan\n",
      "[ 34%] Built target kuzu_storage_index\n",
      "[ 35%] Built target kuzu_storage_in_mem_csv_copier\n",
      "[ 38%] Built target kuzu_processor_operator\n",
      "[ 38%] Built target gtest\n",
      "[ 39%] Built target kuzu_storage_wal\n",
      "[ 41%] Built target kuzu_storage_lists\n",
      "[ 42%] Built target kuzu_storage_structure\n",
      "[ 43%] Built target kuzu_storage_store\n",
      "[ 48%] Built target kuzu_planner_operator\n",
      "[ 48%] Built target gtest_main\n",
      "[ 48%] Built target gmock\n",
      "[ 52%] Built target kuzu_processor_mapper\n",
      "[ 53%] Built target gmock_main\n",
      "[ 81%] Built target antlr4_runtime\n",
      "[ 81%] Built target antlr4_cypher\n",
      "[ 82%] Built target kuzu\n",
      "[ 83%] Built target kuzu_shared\n",
      "[ 83%] Built target test_helper\n",
      "[ 83%] Built target graph_test\n",
      "[ 83%] Built target kuzu_shell\n",
      "[ 83%] \u001b[32m\u001b[1mLinking CXX shared library /Users/lc/Developer/kuzu/tools/python_api/build/kuzu/_kuzu.cpython-310-darwin.so\u001b[0m\n",
      "ld: warning: -undefined dynamic_lookup may not work with chained fixups\n",
      "[ 84%] Built target syntax_error_test\n",
      "[ 84%] Built target binder_test\n",
      "[ 84%] Built target copy_dos_style_newline_test\n",
      "[ 84%] Built target catalog_test\n",
      "[ 85%] Built target copy_fault_test\n",
      "[ 85%] Built target demo_db_test\n",
      "[ 86%] Built target copy_dates_test\n",
      "[ 86%] Built target binder_error_test\n",
      "[ 86%] Built target copy_arrow_test\n",
      "[ 86%] Built target copy_lists_test\n",
      "[ 87%] Built target copy_interval_test\n",
      "[ 87%] Built target e2e_copy_csv_transaction_test\n",
      "[ 88%] Built target e2e_delete_create_transaction_test\n",
      "[ 89%] Built target copy_test\n",
      "[ 89%] Built target e2e_ddl_test\n",
      "[ 89%] Built target order_by_test\n",
      "[ 89%] Built target copy_timestamp_test\n",
      "[ 90%] Built target types_test\n",
      "[ 91%] Built target e2e_exception_test\n",
      "[ 91%] Built target e2e_order_by_test\n",
      "[ 92%] Built target main_test\n",
      "[ 92%] Built target e2e_read_list_test\n",
      "[ 93%] Built target e2e_read_test\n",
      "[ 93%] Built target e2e_set_transaction_test\n",
      "[ 93%] Built target e2e_delete_rel_test\n",
      "[ 94%] Built target wal_record_test\n",
      "[ 94%] Built target e2e_update_node_test\n",
      "[ 95%] Built target node_insertion_deletion_test\n",
      "[ 95%] Built target e2e_create_rel_test\n",
      "[ 96%] Built target wal_test\n",
      "[ 97%] Built target e2e_update_rel_test\n",
      "[ 98%] Built target wal_replayer_test\n",
      "[ 98%] Built target buffer_manager_test\n",
      "[ 98%] Built target transaction_manager_test\n",
      "[ 99%] Built target transaction_test\n",
      "[100%] Built target _kuzu\n"
     ]
    }
   ],
   "source": [
    "!cd /Users/lc/Developer/kuzu &&  make clean-python-api && make release NUM_THREADS=20 "
   ]
  },
  {
   "cell_type": "code",
   "execution_count": 2,
   "metadata": {},
   "outputs": [],
   "source": [
    "import sys\n",
    "sys.path.append('/Users/lc/Developer/kuzu/tools/python_api/build')\n",
    "import kuzu"
   ]
  },
  {
   "cell_type": "code",
   "execution_count": 3,
   "metadata": {},
   "outputs": [],
   "source": [
    "import torch_geometric.transforms as T\n",
    "from torch_geometric.datasets import OGB_MAG\n",
    "\n",
    "\n",
    "dataset = OGB_MAG(root='/Users/lc/Developer/ogb_pytorch', preprocess='metapath2vec', transform=T.ToUndirected())\n",
    "data = dataset[0]"
   ]
  },
  {
   "cell_type": "code",
   "execution_count": 4,
   "metadata": {},
   "outputs": [],
   "source": [
    "import torch"
   ]
  },
  {
   "cell_type": "code",
   "execution_count": 5,
   "metadata": {},
   "outputs": [],
   "source": [
    "DB_PATH = '/Users/lc/Developer/kuzu_ogb_mag'\n",
    "db = kuzu.Database(DB_PATH)"
   ]
  },
  {
   "cell_type": "code",
   "execution_count": 6,
   "metadata": {},
   "outputs": [],
   "source": [
    "conn = kuzu.Connection(db)"
   ]
  },
  {
   "cell_type": "code",
   "execution_count": 7,
   "metadata": {},
   "outputs": [],
   "source": [
    "fs, gs = db.get_torch_geometric_remote_backend()"
   ]
  },
  {
   "cell_type": "code",
   "execution_count": 8,
   "metadata": {},
   "outputs": [
    {
     "data": {
      "text/plain": [
       "HeteroData(\n",
       "  \u001b[1mpaper\u001b[0m={\n",
       "    x=[736389, 128],\n",
       "    year=[736389],\n",
       "    y=[736389],\n",
       "    train_mask=[736389],\n",
       "    val_mask=[736389],\n",
       "    test_mask=[736389]\n",
       "  },\n",
       "  \u001b[1mauthor\u001b[0m={ x=[1134649, 128] },\n",
       "  \u001b[1minstitution\u001b[0m={ x=[8740, 128] },\n",
       "  \u001b[1mfield_of_study\u001b[0m={ x=[59965, 128] },\n",
       "  \u001b[1m(author, affiliated_with, institution)\u001b[0m={ edge_index=[2, 1043998] },\n",
       "  \u001b[1m(author, writes, paper)\u001b[0m={ edge_index=[2, 7145660] },\n",
       "  \u001b[1m(paper, cites, paper)\u001b[0m={ edge_index=[2, 10792672] },\n",
       "  \u001b[1m(paper, has_topic, field_of_study)\u001b[0m={ edge_index=[2, 7505078] },\n",
       "  \u001b[1m(institution, rev_affiliated_with, author)\u001b[0m={ edge_index=[2, 1043998] },\n",
       "  \u001b[1m(paper, rev_writes, author)\u001b[0m={ edge_index=[2, 7145660] },\n",
       "  \u001b[1m(field_of_study, rev_has_topic, paper)\u001b[0m={ edge_index=[2, 7505078] }\n",
       ")"
      ]
     },
     "execution_count": 8,
     "metadata": {},
     "output_type": "execute_result"
    }
   ],
   "source": [
    "data"
   ]
  },
  {
   "cell_type": "code",
   "execution_count": 9,
   "metadata": {},
   "outputs": [],
   "source": [
    "from torch_geometric.loader import NeighborLoader\n"
   ]
  },
  {
   "cell_type": "code",
   "execution_count": 10,
   "metadata": {},
   "outputs": [],
   "source": [
    "loader_kuzu = NeighborLoader(\n",
    "    data=(fs, gs),\n",
    "    num_neighbors={key.edge_type : [30] * 2 for key in gs.get_all_edge_attrs()},\n",
    "    # Use a batch size of 128 for sampling training nodes of type paper\n",
    "    batch_size=128,\n",
    "    input_nodes=('paper', torch.arange(0, data['paper'].num_nodes)),\n",
    "    input_time=None,\n",
    "    num_workers=10,\n",
    ")"
   ]
  },
  {
   "cell_type": "code",
   "execution_count": 12,
   "metadata": {},
   "outputs": [
    {
     "ename": "TypeError",
     "evalue": "cannot pickle 'kuzu._kuzu.Database' object",
     "output_type": "error",
     "traceback": [
      "\u001b[0;31m---------------------------------------------------------------------------\u001b[0m",
      "\u001b[0;31mTypeError\u001b[0m                                 Traceback (most recent call last)",
      "Cell \u001b[0;32mIn[12], line 5\u001b[0m\n\u001b[1;32m      3\u001b[0m \u001b[39mfor\u001b[39;00m i \u001b[39min\u001b[39;00m \u001b[39mrange\u001b[39m(\u001b[39m10\u001b[39m):\n\u001b[1;32m      4\u001b[0m     start \u001b[39m=\u001b[39m time\u001b[39m.\u001b[39mtime()\n\u001b[0;32m----> 5\u001b[0m     \u001b[39mnext\u001b[39m(\u001b[39miter\u001b[39;49m(loader_kuzu))\n\u001b[1;32m      6\u001b[0m     end \u001b[39m=\u001b[39m time\u001b[39m.\u001b[39mtime()\n\u001b[1;32m      7\u001b[0m     \u001b[39mif\u001b[39;00m i \u001b[39m>\u001b[39m \u001b[39m0\u001b[39m:\n",
      "File \u001b[0;32m/opt/homebrew/lib/python3.10/site-packages/torch/utils/data/dataloader.py:435\u001b[0m, in \u001b[0;36mDataLoader.__iter__\u001b[0;34m(self)\u001b[0m\n\u001b[1;32m    433\u001b[0m     \u001b[39mreturn\u001b[39;00m \u001b[39mself\u001b[39m\u001b[39m.\u001b[39m_iterator\n\u001b[1;32m    434\u001b[0m \u001b[39melse\u001b[39;00m:\n\u001b[0;32m--> 435\u001b[0m     \u001b[39mreturn\u001b[39;00m \u001b[39mself\u001b[39;49m\u001b[39m.\u001b[39;49m_get_iterator()\n",
      "File \u001b[0;32m/opt/homebrew/lib/python3.10/site-packages/torch_geometric/loader/node_loader.py:165\u001b[0m, in \u001b[0;36mNodeLoader._get_iterator\u001b[0;34m(self)\u001b[0m\n\u001b[1;32m    156\u001b[0m     \u001b[39mreturn\u001b[39;00m \u001b[39msuper\u001b[39m()\u001b[39m.\u001b[39m_get_iterator()\n\u001b[1;32m    158\u001b[0m \u001b[39m# if not self.is_cuda_available and not self.cpu_affinity_enabled:\u001b[39;00m\n\u001b[1;32m    159\u001b[0m \u001b[39m# TODO: Add manual page for best CPU practices\u001b[39;00m\n\u001b[1;32m    160\u001b[0m \u001b[39m# link = ...\u001b[39;00m\n\u001b[0;32m   (...)\u001b[0m\n\u001b[1;32m    163\u001b[0m \u001b[39m#          f'best practices for PyG [{link}])')\u001b[39;00m\n\u001b[1;32m    164\u001b[0m \u001b[39m# Execute `filter_fn` in the main process:\u001b[39;00m\n\u001b[0;32m--> 165\u001b[0m \u001b[39mreturn\u001b[39;00m DataLoaderIterator(\u001b[39msuper\u001b[39;49m()\u001b[39m.\u001b[39;49m_get_iterator(), \u001b[39mself\u001b[39m\u001b[39m.\u001b[39mfilter_fn)\n",
      "File \u001b[0;32m/opt/homebrew/lib/python3.10/site-packages/torch/utils/data/dataloader.py:381\u001b[0m, in \u001b[0;36mDataLoader._get_iterator\u001b[0;34m(self)\u001b[0m\n\u001b[1;32m    379\u001b[0m \u001b[39melse\u001b[39;00m:\n\u001b[1;32m    380\u001b[0m     \u001b[39mself\u001b[39m\u001b[39m.\u001b[39mcheck_worker_number_rationality()\n\u001b[0;32m--> 381\u001b[0m     \u001b[39mreturn\u001b[39;00m _MultiProcessingDataLoaderIter(\u001b[39mself\u001b[39;49m)\n",
      "File \u001b[0;32m/opt/homebrew/lib/python3.10/site-packages/torch/utils/data/dataloader.py:1034\u001b[0m, in \u001b[0;36m_MultiProcessingDataLoaderIter.__init__\u001b[0;34m(self, loader)\u001b[0m\n\u001b[1;32m   1027\u001b[0m w\u001b[39m.\u001b[39mdaemon \u001b[39m=\u001b[39m \u001b[39mTrue\u001b[39;00m\n\u001b[1;32m   1028\u001b[0m \u001b[39m# NB: Process.start() actually take some time as it needs to\u001b[39;00m\n\u001b[1;32m   1029\u001b[0m \u001b[39m#     start a process and pass the arguments over via a pipe.\u001b[39;00m\n\u001b[1;32m   1030\u001b[0m \u001b[39m#     Therefore, we only add a worker to self._workers list after\u001b[39;00m\n\u001b[1;32m   1031\u001b[0m \u001b[39m#     it started, so that we do not call .join() if program dies\u001b[39;00m\n\u001b[1;32m   1032\u001b[0m \u001b[39m#     before it starts, and __del__ tries to join but will get:\u001b[39;00m\n\u001b[1;32m   1033\u001b[0m \u001b[39m#     AssertionError: can only join a started process.\u001b[39;00m\n\u001b[0;32m-> 1034\u001b[0m w\u001b[39m.\u001b[39;49mstart()\n\u001b[1;32m   1035\u001b[0m \u001b[39mself\u001b[39m\u001b[39m.\u001b[39m_index_queues\u001b[39m.\u001b[39mappend(index_queue)\n\u001b[1;32m   1036\u001b[0m \u001b[39mself\u001b[39m\u001b[39m.\u001b[39m_workers\u001b[39m.\u001b[39mappend(w)\n",
      "File \u001b[0;32m/opt/homebrew/Cellar/python@3.10/3.10.9/Frameworks/Python.framework/Versions/3.10/lib/python3.10/multiprocessing/process.py:121\u001b[0m, in \u001b[0;36mBaseProcess.start\u001b[0;34m(self)\u001b[0m\n\u001b[1;32m    118\u001b[0m \u001b[39massert\u001b[39;00m \u001b[39mnot\u001b[39;00m _current_process\u001b[39m.\u001b[39m_config\u001b[39m.\u001b[39mget(\u001b[39m'\u001b[39m\u001b[39mdaemon\u001b[39m\u001b[39m'\u001b[39m), \\\n\u001b[1;32m    119\u001b[0m        \u001b[39m'\u001b[39m\u001b[39mdaemonic processes are not allowed to have children\u001b[39m\u001b[39m'\u001b[39m\n\u001b[1;32m    120\u001b[0m _cleanup()\n\u001b[0;32m--> 121\u001b[0m \u001b[39mself\u001b[39m\u001b[39m.\u001b[39m_popen \u001b[39m=\u001b[39m \u001b[39mself\u001b[39;49m\u001b[39m.\u001b[39;49m_Popen(\u001b[39mself\u001b[39;49m)\n\u001b[1;32m    122\u001b[0m \u001b[39mself\u001b[39m\u001b[39m.\u001b[39m_sentinel \u001b[39m=\u001b[39m \u001b[39mself\u001b[39m\u001b[39m.\u001b[39m_popen\u001b[39m.\u001b[39msentinel\n\u001b[1;32m    123\u001b[0m \u001b[39m# Avoid a refcycle if the target function holds an indirect\u001b[39;00m\n\u001b[1;32m    124\u001b[0m \u001b[39m# reference to the process object (see bpo-30775)\u001b[39;00m\n",
      "File \u001b[0;32m/opt/homebrew/Cellar/python@3.10/3.10.9/Frameworks/Python.framework/Versions/3.10/lib/python3.10/multiprocessing/context.py:224\u001b[0m, in \u001b[0;36mProcess._Popen\u001b[0;34m(process_obj)\u001b[0m\n\u001b[1;32m    222\u001b[0m \u001b[39m@staticmethod\u001b[39m\n\u001b[1;32m    223\u001b[0m \u001b[39mdef\u001b[39;00m \u001b[39m_Popen\u001b[39m(process_obj):\n\u001b[0;32m--> 224\u001b[0m     \u001b[39mreturn\u001b[39;00m _default_context\u001b[39m.\u001b[39;49mget_context()\u001b[39m.\u001b[39;49mProcess\u001b[39m.\u001b[39;49m_Popen(process_obj)\n",
      "File \u001b[0;32m/opt/homebrew/Cellar/python@3.10/3.10.9/Frameworks/Python.framework/Versions/3.10/lib/python3.10/multiprocessing/context.py:288\u001b[0m, in \u001b[0;36mSpawnProcess._Popen\u001b[0;34m(process_obj)\u001b[0m\n\u001b[1;32m    285\u001b[0m \u001b[39m@staticmethod\u001b[39m\n\u001b[1;32m    286\u001b[0m \u001b[39mdef\u001b[39;00m \u001b[39m_Popen\u001b[39m(process_obj):\n\u001b[1;32m    287\u001b[0m     \u001b[39mfrom\u001b[39;00m \u001b[39m.\u001b[39;00m\u001b[39mpopen_spawn_posix\u001b[39;00m \u001b[39mimport\u001b[39;00m Popen\n\u001b[0;32m--> 288\u001b[0m     \u001b[39mreturn\u001b[39;00m Popen(process_obj)\n",
      "File \u001b[0;32m/opt/homebrew/Cellar/python@3.10/3.10.9/Frameworks/Python.framework/Versions/3.10/lib/python3.10/multiprocessing/popen_spawn_posix.py:32\u001b[0m, in \u001b[0;36mPopen.__init__\u001b[0;34m(self, process_obj)\u001b[0m\n\u001b[1;32m     30\u001b[0m \u001b[39mdef\u001b[39;00m \u001b[39m__init__\u001b[39m(\u001b[39mself\u001b[39m, process_obj):\n\u001b[1;32m     31\u001b[0m     \u001b[39mself\u001b[39m\u001b[39m.\u001b[39m_fds \u001b[39m=\u001b[39m []\n\u001b[0;32m---> 32\u001b[0m     \u001b[39msuper\u001b[39;49m()\u001b[39m.\u001b[39;49m\u001b[39m__init__\u001b[39;49m(process_obj)\n",
      "File \u001b[0;32m/opt/homebrew/Cellar/python@3.10/3.10.9/Frameworks/Python.framework/Versions/3.10/lib/python3.10/multiprocessing/popen_fork.py:19\u001b[0m, in \u001b[0;36mPopen.__init__\u001b[0;34m(self, process_obj)\u001b[0m\n\u001b[1;32m     17\u001b[0m \u001b[39mself\u001b[39m\u001b[39m.\u001b[39mreturncode \u001b[39m=\u001b[39m \u001b[39mNone\u001b[39;00m\n\u001b[1;32m     18\u001b[0m \u001b[39mself\u001b[39m\u001b[39m.\u001b[39mfinalizer \u001b[39m=\u001b[39m \u001b[39mNone\u001b[39;00m\n\u001b[0;32m---> 19\u001b[0m \u001b[39mself\u001b[39;49m\u001b[39m.\u001b[39;49m_launch(process_obj)\n",
      "File \u001b[0;32m/opt/homebrew/Cellar/python@3.10/3.10.9/Frameworks/Python.framework/Versions/3.10/lib/python3.10/multiprocessing/popen_spawn_posix.py:47\u001b[0m, in \u001b[0;36mPopen._launch\u001b[0;34m(self, process_obj)\u001b[0m\n\u001b[1;32m     45\u001b[0m \u001b[39mtry\u001b[39;00m:\n\u001b[1;32m     46\u001b[0m     reduction\u001b[39m.\u001b[39mdump(prep_data, fp)\n\u001b[0;32m---> 47\u001b[0m     reduction\u001b[39m.\u001b[39;49mdump(process_obj, fp)\n\u001b[1;32m     48\u001b[0m \u001b[39mfinally\u001b[39;00m:\n\u001b[1;32m     49\u001b[0m     set_spawning_popen(\u001b[39mNone\u001b[39;00m)\n",
      "File \u001b[0;32m/opt/homebrew/Cellar/python@3.10/3.10.9/Frameworks/Python.framework/Versions/3.10/lib/python3.10/multiprocessing/reduction.py:60\u001b[0m, in \u001b[0;36mdump\u001b[0;34m(obj, file, protocol)\u001b[0m\n\u001b[1;32m     58\u001b[0m \u001b[39mdef\u001b[39;00m \u001b[39mdump\u001b[39m(obj, file, protocol\u001b[39m=\u001b[39m\u001b[39mNone\u001b[39;00m):\n\u001b[1;32m     59\u001b[0m \u001b[39m    \u001b[39m\u001b[39m'''Replacement for pickle.dump() using ForkingPickler.'''\u001b[39;00m\n\u001b[0;32m---> 60\u001b[0m     ForkingPickler(file, protocol)\u001b[39m.\u001b[39;49mdump(obj)\n",
      "\u001b[0;31mTypeError\u001b[0m: cannot pickle 'kuzu._kuzu.Database' object"
     ]
    }
   ],
   "source": [
    "import time\n",
    "times = []\n",
    "for i in range(10):\n",
    "    start = time.time()\n",
    "    next(iter(loader_kuzu))\n",
    "    end = time.time()\n",
    "    if i > 0:\n",
    "        times.append(end - start)\n",
    "        print(\"Total time\", end - start)\n",
    "print(\"=====\")\n",
    "print(sum(times) / len(times))"
   ]
  },
  {
   "cell_type": "code",
   "execution_count": 12,
   "metadata": {},
   "outputs": [
    {
     "data": {
      "text/plain": [
       "HeteroData(\n",
       "  \u001b[1mpaper\u001b[0m={\n",
       "    num_nodes=35999,\n",
       "    id=[35999],\n",
       "    x=[35999, 128],\n",
       "    year=[35999],\n",
       "    y=[35999],\n",
       "    input_id=[128],\n",
       "    batch_size=128\n",
       "  },\n",
       "  \u001b[1minstitution\u001b[0m={\n",
       "    num_nodes=333,\n",
       "    id=[333],\n",
       "    x=[333, 128]\n",
       "  },\n",
       "  \u001b[1mauthor\u001b[0m={\n",
       "    num_nodes=5709,\n",
       "    id=[5709],\n",
       "    x=[5709, 128]\n",
       "  },\n",
       "  \u001b[1mfield_of_study\u001b[0m={\n",
       "    num_nodes=2792,\n",
       "    id=[2792],\n",
       "    x=[2792, 128]\n",
       "  },\n",
       "  \u001b[1m(paper, has_topic, field_of_study)\u001b[0m={ edge_index=[2, 20795] },\n",
       "  \u001b[1m(author, affiliated_with, institution)\u001b[0m={ edge_index=[2, 0] },\n",
       "  \u001b[1m(institution, rev_affiliated_with, author)\u001b[0m={ edge_index=[2, 942] },\n",
       "  \u001b[1m(field_of_study, rev_has_topic, paper)\u001b[0m={ edge_index=[2, 12417] },\n",
       "  \u001b[1m(paper, cites, paper)\u001b[0m={ edge_index=[2, 22022] },\n",
       "  \u001b[1m(author, writes, paper)\u001b[0m={ edge_index=[2, 7942] },\n",
       "  \u001b[1m(paper, rev_writes, author)\u001b[0m={ edge_index=[2, 9075] }\n",
       ")"
      ]
     },
     "execution_count": 12,
     "metadata": {},
     "output_type": "execute_result"
    }
   ],
   "source": [
    "next(iter(loader_kuzu))"
   ]
  },
  {
   "cell_type": "code",
   "execution_count": 13,
   "metadata": {},
   "outputs": [],
   "source": [
    "loader_pyg = NeighborLoader(\n",
    "    data=data,\n",
    "    num_neighbors={key.edge_type : [30] * 2 for key in gs.get_all_edge_attrs()},\n",
    "    # Use a batch size of 128 for sampling training nodes of type paper\n",
    "    batch_size=128,\n",
    "    input_nodes=('paper', torch.arange(0, data['paper'].num_nodes)),\n",
    "    input_time=None\n",
    ")"
   ]
  },
  {
   "cell_type": "code",
   "execution_count": 14,
   "metadata": {},
   "outputs": [
    {
     "name": "stdout",
     "output_type": "stream",
     "text": [
      "0.046340227127075195\n",
      "0.04477691650390625\n",
      "0.04415106773376465\n",
      "0.04438495635986328\n",
      "0.043502092361450195\n",
      "0.04590892791748047\n",
      "0.043756961822509766\n",
      "0.04406404495239258\n",
      "0.0437161922454834\n",
      "=====\n",
      "0.04451126522488064\n"
     ]
    }
   ],
   "source": [
    "import time\n",
    "times = []\n",
    "for i in range(10):\n",
    "    start = time.time()\n",
    "    next(iter(loader_pyg))\n",
    "    end = time.time()\n",
    "    if i > 0:\n",
    "        times.append(end - start)\n",
    "        print(end - start)\n",
    "print(\"=====\")\n",
    "print(sum(times) / len(times))"
   ]
  },
  {
   "cell_type": "code",
   "execution_count": null,
   "metadata": {},
   "outputs": [],
   "source": []
  }
 ],
 "metadata": {
  "kernelspec": {
   "display_name": "Python 3",
   "language": "python",
   "name": "python3"
  },
  "language_info": {
   "codemirror_mode": {
    "name": "ipython",
    "version": 3
   },
   "file_extension": ".py",
   "mimetype": "text/x-python",
   "name": "python",
   "nbconvert_exporter": "python",
   "pygments_lexer": "ipython3",
   "version": "3.10.9"
  },
  "orig_nbformat": 4,
  "vscode": {
   "interpreter": {
    "hash": "b0fa6594d8f4cbf19f97940f81e996739fb7646882a419484c72d19e05852a7e"
   }
  }
 },
 "nbformat": 4,
 "nbformat_minor": 2
}
