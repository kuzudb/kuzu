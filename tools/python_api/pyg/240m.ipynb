{
 "cells": [
  {
   "cell_type": "code",
   "execution_count": 1,
   "metadata": {},
   "outputs": [],
   "source": [
    "from ogb.lsc import MAG240MDataset\n",
    "dataset = MAG240MDataset(root = \"/home/lc/Developer/mag240m\")"
   ]
  },
  {
   "cell_type": "code",
   "execution_count": 2,
   "metadata": {},
   "outputs": [],
   "source": [
    "import csv\n",
    "import numpy as np\n",
    "import pandas as pd\n",
    "import json\n",
    "import math\n",
    "from tqdm import tqdm\n",
    "import pyarrow as pa"
   ]
  },
  {
   "cell_type": "code",
   "execution_count": 3,
   "metadata": {},
   "outputs": [],
   "source": [
    "all_paper_year = dataset.all_paper_year.astype(np.int16)"
   ]
  },
  {
   "cell_type": "code",
   "execution_count": 4,
   "metadata": {},
   "outputs": [
    {
     "name": "stderr",
     "output_type": "stream",
     "text": [
      "/tmp/ipykernel_1453900/165144024.py:1: RuntimeWarning: invalid value encountered in cast\n",
      "  all_paper_label = dataset.all_paper_label.astype(np.int16)\n"
     ]
    }
   ],
   "source": [
    "all_paper_label = dataset.all_paper_label.astype(np.int16)"
   ]
  },
  {
   "cell_type": "code",
   "execution_count": 5,
   "metadata": {},
   "outputs": [],
   "source": [
    "all_paper_feat = dataset.all_paper_feat"
   ]
  },
  {
   "cell_type": "code",
   "execution_count": 11,
   "metadata": {},
   "outputs": [
    {
     "data": {
      "text/plain": [
       "numpy.ndarray"
      ]
     },
     "execution_count": 11,
     "metadata": {},
     "output_type": "execute_result"
    }
   ],
   "source": [
    "type(all_paper_feat)"
   ]
  },
  {
   "cell_type": "code",
   "execution_count": 12,
   "metadata": {},
   "outputs": [
    {
     "data": {
      "text/plain": [
       "dtype('float16')"
      ]
     },
     "execution_count": 12,
     "metadata": {},
     "output_type": "execute_result"
    }
   ],
   "source": [
    "all_paper_feat.dtype"
   ]
  },
  {
   "cell_type": "code",
   "execution_count": 6,
   "metadata": {},
   "outputs": [
    {
     "name": "stderr",
     "output_type": "stream",
     "text": [
      "100%|██████████| 121751666/121751666 [00:54<00:00, 2234917.99it/s]\n"
     ]
    }
   ],
   "source": [
    "all_paper_feat_list = []\n",
    "for i in tqdm(range(len(all_paper_feat))):\n",
    "    all_paper_feat_list.append(all_paper_feat[i])"
   ]
  },
  {
   "cell_type": "code",
   "execution_count": 7,
   "metadata": {},
   "outputs": [],
   "source": [
    "df = pd.DataFrame({'year': all_paper_year, 'label': all_paper_label, 'feat': all_paper_feat_list})"
   ]
  },
  {
   "cell_type": "code",
   "execution_count": 8,
   "metadata": {},
   "outputs": [],
   "source": [
    "df.index.name = 'id'"
   ]
  },
  {
   "cell_type": "code",
   "execution_count": 9,
   "metadata": {},
   "outputs": [
    {
     "data": {
      "text/html": [
       "<div>\n",
       "<style scoped>\n",
       "    .dataframe tbody tr th:only-of-type {\n",
       "        vertical-align: middle;\n",
       "    }\n",
       "\n",
       "    .dataframe tbody tr th {\n",
       "        vertical-align: top;\n",
       "    }\n",
       "\n",
       "    .dataframe thead th {\n",
       "        text-align: right;\n",
       "    }\n",
       "</style>\n",
       "<table border=\"1\" class=\"dataframe\">\n",
       "  <thead>\n",
       "    <tr style=\"text-align: right;\">\n",
       "      <th></th>\n",
       "      <th>year</th>\n",
       "      <th>label</th>\n",
       "      <th>feat</th>\n",
       "    </tr>\n",
       "    <tr>\n",
       "      <th>id</th>\n",
       "      <th></th>\n",
       "      <th></th>\n",
       "      <th></th>\n",
       "    </tr>\n",
       "  </thead>\n",
       "  <tbody>\n",
       "    <tr>\n",
       "      <th>0</th>\n",
       "      <td>2004</td>\n",
       "      <td>0</td>\n",
       "      <td>[-0.2715, -0.1475, 0.1984, -0.1376, 0.557, -0....</td>\n",
       "    </tr>\n",
       "    <tr>\n",
       "      <th>1</th>\n",
       "      <td>2004</td>\n",
       "      <td>0</td>\n",
       "      <td>[-0.1743, 0.3687, 0.06195, 0.4053, 0.706, 0.10...</td>\n",
       "    </tr>\n",
       "    <tr>\n",
       "      <th>2</th>\n",
       "      <td>2008</td>\n",
       "      <td>0</td>\n",
       "      <td>[0.558, -0.5654, 0.3413, 1.242, 0.3665, 0.4607...</td>\n",
       "    </tr>\n",
       "    <tr>\n",
       "      <th>3</th>\n",
       "      <td>2005</td>\n",
       "      <td>0</td>\n",
       "      <td>[0.2205, -0.2489, 0.2007, -0.1948, 0.4016, 0.3...</td>\n",
       "    </tr>\n",
       "    <tr>\n",
       "      <th>4</th>\n",
       "      <td>2005</td>\n",
       "      <td>0</td>\n",
       "      <td>[-0.8223, -0.234, 0.3374, 0.5225, 1.123, -0.09...</td>\n",
       "    </tr>\n",
       "    <tr>\n",
       "      <th>...</th>\n",
       "      <td>...</td>\n",
       "      <td>...</td>\n",
       "      <td>...</td>\n",
       "    </tr>\n",
       "    <tr>\n",
       "      <th>121751661</th>\n",
       "      <td>2018</td>\n",
       "      <td>0</td>\n",
       "      <td>[-0.5054, -0.272, -0.9053, -0.3267, 0.04315, 0...</td>\n",
       "    </tr>\n",
       "    <tr>\n",
       "      <th>121751662</th>\n",
       "      <td>2018</td>\n",
       "      <td>127</td>\n",
       "      <td>[0.4346, 0.0758, -0.653, -0.0578, 0.06137, -0....</td>\n",
       "    </tr>\n",
       "    <tr>\n",
       "      <th>121751663</th>\n",
       "      <td>2019</td>\n",
       "      <td>0</td>\n",
       "      <td>[0.2644, 0.1191, 0.413, 0.773, -0.4077, -0.282...</td>\n",
       "    </tr>\n",
       "    <tr>\n",
       "      <th>121751664</th>\n",
       "      <td>1999</td>\n",
       "      <td>0</td>\n",
       "      <td>[0.77, -0.4543, -0.4263, 0.6245, -0.8164, -0.6...</td>\n",
       "    </tr>\n",
       "    <tr>\n",
       "      <th>121751665</th>\n",
       "      <td>2019</td>\n",
       "      <td>0</td>\n",
       "      <td>[0.2905, -0.3306, -0.679, 0.3977, 0.1305, -0.2...</td>\n",
       "    </tr>\n",
       "  </tbody>\n",
       "</table>\n",
       "<p>121751666 rows × 3 columns</p>\n",
       "</div>"
      ],
      "text/plain": [
       "           year  label                                               feat\n",
       "id                                                                       \n",
       "0          2004      0  [-0.2715, -0.1475, 0.1984, -0.1376, 0.557, -0....\n",
       "1          2004      0  [-0.1743, 0.3687, 0.06195, 0.4053, 0.706, 0.10...\n",
       "2          2008      0  [0.558, -0.5654, 0.3413, 1.242, 0.3665, 0.4607...\n",
       "3          2005      0  [0.2205, -0.2489, 0.2007, -0.1948, 0.4016, 0.3...\n",
       "4          2005      0  [-0.8223, -0.234, 0.3374, 0.5225, 1.123, -0.09...\n",
       "...         ...    ...                                                ...\n",
       "121751661  2018      0  [-0.5054, -0.272, -0.9053, -0.3267, 0.04315, 0...\n",
       "121751662  2018    127  [0.4346, 0.0758, -0.653, -0.0578, 0.06137, -0....\n",
       "121751663  2019      0  [0.2644, 0.1191, 0.413, 0.773, -0.4077, -0.282...\n",
       "121751664  1999      0  [0.77, -0.4543, -0.4263, 0.6245, -0.8164, -0.6...\n",
       "121751665  2019      0  [0.2905, -0.3306, -0.679, 0.3977, 0.1305, -0.2...\n",
       "\n",
       "[121751666 rows x 3 columns]"
      ]
     },
     "execution_count": 9,
     "metadata": {},
     "output_type": "execute_result"
    }
   ],
   "source": [
    "df"
   ]
  },
  {
   "cell_type": "code",
   "execution_count": 10,
   "metadata": {},
   "outputs": [
    {
     "name": "stderr",
     "output_type": "stream",
     "text": [
      "100%|██████████| 1218/1218 [16:38:49<00:00, 49.20s/it]  \n"
     ]
    }
   ],
   "source": [
    "chunk_size = 100000\n",
    "num_chunks = math.ceil(len(df) / chunk_size)\n",
    "for i in tqdm(range(num_chunks)):\n",
    "    chunk = df.iloc[i * chunk_size:(i + 1) * chunk_size].copy(deep=True)\n",
    "    chunk['feat'] = chunk['feat'].apply(lambda x: str(x.tolist()).replace(' ', ''))\n",
    "    chunk.to_parquet('papers.parquet', engine='fastparquet', compression='snappy', index=True, append=(i > 0))\n",
    "    del chunk"
   ]
  },
  {
   "cell_type": "code",
   "execution_count": 4,
   "metadata": {},
   "outputs": [
    {
     "name": "stderr",
     "output_type": "stream",
     "text": [
      "100%|██████████| 121751666/121751666 [19:59<00:00, 101483.90it/s]\n"
     ]
    }
   ],
   "source": [
    "feat = dataset.paper_feat\n",
    "feat_f32 = np.zeros_like(feat, dtype=np.float32)\n",
    "for i in tqdm(range(len(feat))):\n",
    "    feat_f32[i] = feat[i].astype(np.float32)"
   ]
  },
  {
   "cell_type": "code",
   "execution_count": 5,
   "metadata": {},
   "outputs": [],
   "source": [
    "np.save('/home/lc/Developer/mag240m/mag240m_kddcup2021/processed/paper/node_feat_f32.npy', feat_f32)"
   ]
  },
  {
   "cell_type": "code",
   "execution_count": null,
   "metadata": {},
   "outputs": [],
   "source": []
  }
 ],
 "metadata": {
  "kernelspec": {
   "display_name": "Python 3",
   "language": "python",
   "name": "python3"
  },
  "language_info": {
   "codemirror_mode": {
    "name": "ipython",
    "version": 3
   },
   "file_extension": ".py",
   "mimetype": "text/x-python",
   "name": "python",
   "nbconvert_exporter": "python",
   "pygments_lexer": "ipython3",
   "version": "3.9.16"
  },
  "orig_nbformat": 4
 },
 "nbformat": 4,
 "nbformat_minor": 2
}
